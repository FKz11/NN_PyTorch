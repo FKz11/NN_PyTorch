{
  "cells": [
    {
      "cell_type": "markdown",
      "metadata": {
        "id": "view-in-github",
        "colab_type": "text"
      },
      "source": [
        "<a href=\"https://colab.research.google.com/github/FKz11/NN_PyTorch/blob/main/lesson_1.ipynb\" target=\"_parent\"><img src=\"https://colab.research.google.com/assets/colab-badge.svg\" alt=\"Open In Colab\"/></a>"
      ]
    },
    {
      "cell_type": "markdown",
      "source": [
        "# lesson-1"
      ],
      "metadata": {
        "id": "pLMCsJzhAgd9"
      }
    },
    {
      "cell_type": "code",
      "execution_count": 1,
      "metadata": {
        "id": "_CNZn_3CofVO"
      },
      "outputs": [],
      "source": [
        "import torch"
      ]
    },
    {
      "cell_type": "markdown",
      "source": [
        "## 1. Создайте случайный FloatTensor размера 3x4x5"
      ],
      "metadata": {
        "id": "HJOLocRxApD9"
      }
    },
    {
      "cell_type": "code",
      "execution_count": 2,
      "metadata": {
        "id": "QGYTKAxeofVR",
        "colab": {
          "base_uri": "https://localhost:8080/"
        },
        "outputId": "1350a5b2-3af3-4b93-905a-2aff36140b3d"
      },
      "outputs": [
        {
          "output_type": "stream",
          "name": "stdout",
          "text": [
            "torch.FloatTensor\n"
          ]
        },
        {
          "output_type": "execute_result",
          "data": {
            "text/plain": [
              "torch.Size([3, 4, 5])"
            ]
          },
          "metadata": {},
          "execution_count": 2
        }
      ],
      "source": [
        "a = torch.rand(3,4,5)\n",
        "print(a.type())\n",
        "a.shape"
      ]
    },
    {
      "cell_type": "markdown",
      "source": [
        "## 2. Выведите его форму (shape)"
      ],
      "metadata": {
        "id": "juYV8OPZBNHI"
      }
    },
    {
      "cell_type": "code",
      "execution_count": 3,
      "metadata": {
        "id": "7GV_q8DdofVV",
        "colab": {
          "base_uri": "https://localhost:8080/"
        },
        "outputId": "98c04949-812a-437d-885a-e38fbe4bd79c"
      },
      "outputs": [
        {
          "output_type": "execute_result",
          "data": {
            "text/plain": [
              "torch.Size([3, 4, 5])"
            ]
          },
          "metadata": {},
          "execution_count": 3
        }
      ],
      "source": [
        "a.shape"
      ]
    },
    {
      "cell_type": "markdown",
      "source": [
        "## 3. Приведите его к форме 6х10"
      ],
      "metadata": {
        "id": "XTWe0gS5CgLD"
      }
    },
    {
      "cell_type": "code",
      "execution_count": 4,
      "metadata": {
        "id": "f1OTy65FofVX",
        "colab": {
          "base_uri": "https://localhost:8080/"
        },
        "outputId": "6c7ea511-3c5c-4986-aeb3-8beb904fb3d5"
      },
      "outputs": [
        {
          "output_type": "execute_result",
          "data": {
            "text/plain": [
              "torch.Size([6, 10])"
            ]
          },
          "metadata": {},
          "execution_count": 4
        }
      ],
      "source": [
        "a = a.reshape(6,10)\n",
        "a.shape"
      ]
    },
    {
      "cell_type": "markdown",
      "source": [
        "## 4. Создайте случайный IntTensor размера 10"
      ],
      "metadata": {
        "id": "hRWPZ_unCz6i"
      }
    },
    {
      "cell_type": "code",
      "execution_count": 5,
      "metadata": {
        "id": "BEVOv9_TofVe",
        "colab": {
          "base_uri": "https://localhost:8080/"
        },
        "outputId": "98b6b100-c88d-4f0c-ea0a-f600bde7bfe1"
      },
      "outputs": [
        {
          "output_type": "stream",
          "name": "stdout",
          "text": [
            "torch.IntTensor\n",
            "torch.Size([10])\n"
          ]
        }
      ],
      "source": [
        "b = torch.randint(10, size=(10,), dtype=torch.int32)\n",
        "print(b.type())\n",
        "print(b.shape)"
      ]
    },
    {
      "cell_type": "markdown",
      "source": [
        "## 5. Умножьте созданный FloatTensor на созданный IntTensor поэлементно"
      ],
      "metadata": {
        "id": "mVGWyDm2EnDU"
      }
    },
    {
      "cell_type": "code",
      "source": [
        "c = a * b.repeat(a.shape[0],1).float()\n",
        "c"
      ],
      "metadata": {
        "id": "TAX3DUiSa07K",
        "colab": {
          "base_uri": "https://localhost:8080/"
        },
        "outputId": "f5194d9e-5219-433d-f3b5-2a45e772b75b"
      },
      "execution_count": 6,
      "outputs": [
        {
          "output_type": "execute_result",
          "data": {
            "text/plain": [
              "tensor([[1.9362, 5.9080, 0.0371, 0.3186, 1.6257, 8.3715, 1.2974, 0.0000, 7.1679,\n",
              "         2.5123],\n",
              "        [4.9494, 1.2651, 0.3116, 0.7301, 1.8542, 3.7391, 2.8227, 0.0000, 5.2013,\n",
              "         8.4760],\n",
              "        [2.5147, 5.8074, 0.0158, 0.4230, 1.2687, 8.3038, 2.1336, 0.0000, 6.5195,\n",
              "         4.0889],\n",
              "        [1.1105, 5.9503, 0.3865, 0.9718, 2.5354, 6.7787, 1.0747, 0.0000, 1.7376,\n",
              "         0.4973],\n",
              "        [1.7688, 5.4870, 0.8549, 0.4170, 0.0694, 6.7173, 1.7399, 0.0000, 5.3720,\n",
              "         3.8572],\n",
              "        [4.5439, 5.4715, 1.0908, 0.8555, 2.6015, 1.5903, 1.8445, 0.0000, 0.3615,\n",
              "         6.3252]])"
            ]
          },
          "metadata": {},
          "execution_count": 6
        }
      ]
    },
    {
      "cell_type": "markdown",
      "source": [
        "## 6. Умножьте тензор матрично на себя, чтобы результат был размерности 6x6\n",
        "## Подсказка: .dot может не подойти"
      ],
      "metadata": {
        "id": "Zeg2dAG1Fka3"
      }
    },
    {
      "cell_type": "code",
      "execution_count": 7,
      "metadata": {
        "id": "eUxdWlQZofVi",
        "colab": {
          "base_uri": "https://localhost:8080/"
        },
        "outputId": "cc2acbad-fc96-48bd-868d-280468e106ee"
      },
      "outputs": [
        {
          "output_type": "execute_result",
          "data": {
            "text/plain": [
              "torch.Size([6, 6])"
            ]
          },
          "metadata": {},
          "execution_count": 7
        }
      ],
      "source": [
        "d = c @ c.T\n",
        "d.shape"
      ]
    },
    {
      "cell_type": "markdown",
      "source": [
        "## 7. Посчитайте производную функции y = x**3 + z - 75t в точке (1, 0.5, 2)"
      ],
      "metadata": {
        "id": "0a4HxLmCKDWG"
      }
    },
    {
      "cell_type": "code",
      "source": [
        "x = torch.tensor([1.,0.5,2.], requires_grad=True)\n",
        "y = x[0]**3 + x[1] - 75*x[2]\n",
        "y.backward()\n",
        "x.grad.sum()"
      ],
      "metadata": {
        "colab": {
          "base_uri": "https://localhost:8080/"
        },
        "id": "TZGBWwdFPWIT",
        "outputId": "f248ce09-dcb2-46c2-8ef7-8c9ee795647c"
      },
      "execution_count": 8,
      "outputs": [
        {
          "output_type": "execute_result",
          "data": {
            "text/plain": [
              "tensor(-71.)"
            ]
          },
          "metadata": {},
          "execution_count": 8
        }
      ]
    },
    {
      "cell_type": "markdown",
      "source": [
        "## 8. Создайте единичный тензор размера 5x6"
      ],
      "metadata": {
        "id": "hC_I4B5ETDGt"
      }
    },
    {
      "cell_type": "code",
      "execution_count": 9,
      "metadata": {
        "id": "FzH6QkyxofVm",
        "colab": {
          "base_uri": "https://localhost:8080/"
        },
        "outputId": "58980d8d-6295-49e2-94da-68cd12d9f4bc"
      },
      "outputs": [
        {
          "output_type": "execute_result",
          "data": {
            "text/plain": [
              "tensor([[1., 1., 1., 1., 1., 1.],\n",
              "        [1., 1., 1., 1., 1., 1.],\n",
              "        [1., 1., 1., 1., 1., 1.],\n",
              "        [1., 1., 1., 1., 1., 1.],\n",
              "        [1., 1., 1., 1., 1., 1.]])"
            ]
          },
          "metadata": {},
          "execution_count": 9
        }
      ],
      "source": [
        "z = torch.ones((5,6))\n",
        "z"
      ]
    },
    {
      "cell_type": "markdown",
      "source": [
        "## 9. Переведите его в формат numpy"
      ],
      "metadata": {
        "id": "KbvMoqwKTVlI"
      }
    },
    {
      "cell_type": "code",
      "execution_count": 10,
      "metadata": {
        "id": "z49ttvWPofVo",
        "colab": {
          "base_uri": "https://localhost:8080/"
        },
        "outputId": "40e5ae2e-7d99-4a9f-881d-ab029b059071"
      },
      "outputs": [
        {
          "output_type": "execute_result",
          "data": {
            "text/plain": [
              "array([[1., 1., 1., 1., 1., 1.],\n",
              "       [1., 1., 1., 1., 1., 1.],\n",
              "       [1., 1., 1., 1., 1., 1.],\n",
              "       [1., 1., 1., 1., 1., 1.],\n",
              "       [1., 1., 1., 1., 1., 1.]], dtype=float32)"
            ]
          },
          "metadata": {},
          "execution_count": 10
        }
      ],
      "source": [
        "z = z.numpy()\n",
        "z"
      ]
    }
  ],
  "metadata": {
    "kernelspec": {
      "display_name": "Python 3",
      "language": "python",
      "name": "python3"
    },
    "language_info": {
      "codemirror_mode": {
        "name": "ipython",
        "version": 3
      },
      "file_extension": ".py",
      "mimetype": "text/x-python",
      "name": "python",
      "nbconvert_exporter": "python",
      "pygments_lexer": "ipython3",
      "version": "3.7.4"
    },
    "colab": {
      "name": "lesson_1.ipynb",
      "provenance": [],
      "collapsed_sections": [],
      "include_colab_link": true
    }
  },
  "nbformat": 4,
  "nbformat_minor": 0
}
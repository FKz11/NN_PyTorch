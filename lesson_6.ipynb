{
  "nbformat": 4,
  "nbformat_minor": 0,
  "metadata": {
    "colab": {
      "name": "lesson_6.ipynb",
      "provenance": [],
      "collapsed_sections": [],
      "authorship_tag": "ABX9TyPokJY30MdzAiDwhdgwHNxn",
      "include_colab_link": true
    },
    "kernelspec": {
      "name": "python3",
      "display_name": "Python 3"
    },
    "language_info": {
      "name": "python"
    },
    "accelerator": "GPU",
    "gpuClass": "standard"
  },
  "cells": [
    {
      "cell_type": "markdown",
      "metadata": {
        "id": "view-in-github",
        "colab_type": "text"
      },
      "source": [
        "<a href=\"https://colab.research.google.com/github/FKz11/NN_PyTorch/blob/main/lesson_6.ipynb\" target=\"_parent\"><img src=\"https://colab.research.google.com/assets/colab-badge.svg\" alt=\"Open In Colab\"/></a>"
      ]
    },
    {
      "cell_type": "markdown",
      "source": [
        "# lesson-6"
      ],
      "metadata": {
        "id": "4omwKc9rbNcH"
      }
    },
    {
      "cell_type": "markdown",
      "source": [
        "### Библиотеки:"
      ],
      "metadata": {
        "id": "XA8R9lalbLFh"
      }
    },
    {
      "cell_type": "code",
      "source": [
        "pip install -qq stop-words"
      ],
      "metadata": {
        "colab": {
          "base_uri": "https://localhost:8080/"
        },
        "id": "vz66IXWfHTtU",
        "outputId": "e2e32694-8cab-4af0-e604-c311e5621b82"
      },
      "execution_count": 1,
      "outputs": [
        {
          "output_type": "stream",
          "name": "stdout",
          "text": [
            "  Building wheel for stop-words (setup.py) ... \u001b[?25l\u001b[?25hdone\n"
          ]
        }
      ]
    },
    {
      "cell_type": "code",
      "source": [
        "import nltk\n",
        "nltk.download('omw-1.4')\n",
        "nltk.download('wordnet')\n",
        "nltk.download(\"punkt\")"
      ],
      "metadata": {
        "colab": {
          "base_uri": "https://localhost:8080/"
        },
        "id": "VQ5_ZLOjMSp1",
        "outputId": "bb68feae-8906-4e29-da74-e7cd8aeb6a37"
      },
      "execution_count": 2,
      "outputs": [
        {
          "output_type": "stream",
          "name": "stderr",
          "text": [
            "[nltk_data] Downloading package omw-1.4 to /root/nltk_data...\n",
            "[nltk_data] Downloading package wordnet to /root/nltk_data...\n",
            "[nltk_data] Downloading package punkt to /root/nltk_data...\n",
            "[nltk_data]   Unzipping tokenizers/punkt.zip.\n"
          ]
        },
        {
          "output_type": "execute_result",
          "data": {
            "text/plain": [
              "True"
            ]
          },
          "metadata": {},
          "execution_count": 2
        }
      ]
    },
    {
      "cell_type": "code",
      "source": [
        "import numpy as np\n",
        "import pandas as pd\n",
        "import matplotlib.pyplot as plt\n",
        "\n",
        "from sklearn.model_selection import train_test_split\n",
        "from sklearn.metrics import f1_score\n",
        "\n",
        "from string import ascii_lowercase\n",
        "from stop_words import get_stop_words\n",
        "import re\n",
        "\n",
        "import torch\n",
        "import torch.nn as nn\n",
        "import torch.nn.functional as F\n",
        "from torch.utils.data import DataLoader, Dataset"
      ],
      "metadata": {
        "id": "F4_qyhHNc9_S"
      },
      "execution_count": 3,
      "outputs": []
    },
    {
      "cell_type": "markdown",
      "source": [
        "## 1. Подготовить датасет https://www.kaggle.com/olekslu/makeup-lips-segmentation-28k-samples для обучения модели на сегментацию губ"
      ],
      "metadata": {
        "id": "x5r2ejWcbM7e"
      }
    },
    {
      "cell_type": "markdown",
      "source": [
        "### Данные"
      ],
      "metadata": {
        "id": "p8ewUKssbpwG"
      }
    },
    {
      "cell_type": "code",
      "source": [
        "from google.colab import drive\n",
        "drive.mount('/content/drive')"
      ],
      "metadata": {
        "colab": {
          "base_uri": "https://localhost:8080/"
        },
        "id": "O3o2JRwAbrxi",
        "outputId": "d227d0cb-e12b-4174-d8af-08b0c3fb1d13"
      },
      "execution_count": 4,
      "outputs": [
        {
          "output_type": "stream",
          "name": "stdout",
          "text": [
            "Mounted at /content/drive\n"
          ]
        }
      ]
    },
    {
      "cell_type": "code",
      "source": [
        "!unzip -qq '/content/drive/MyDrive/Colab Notebooks/archive.zip'"
      ],
      "metadata": {
        "id": "37QqMOQAbt8L"
      },
      "execution_count": 5,
      "outputs": []
    },
    {
      "cell_type": "code",
      "source": [
        "df = pd.read_csv('/content/train.csv')\n",
        "df.drop('id', axis=1, inplace=True)\n",
        "df.tail()"
      ],
      "metadata": {
        "colab": {
          "base_uri": "https://localhost:8080/",
          "height": 206
        },
        "id": "a8NdoZiZcl66",
        "outputId": "857b0739-5331-43af-a63b-f850f08057be"
      },
      "execution_count": 6,
      "outputs": [
        {
          "output_type": "execute_result",
          "data": {
            "text/plain": [
              "       label                                              tweet\n",
              "31957      0  ate @user isz that youuu?ðððððð...\n",
              "31958      0    to see nina turner on the airwaves trying to...\n",
              "31959      0  listening to sad songs on a monday morning otw...\n",
              "31960      1  @user #sikh #temple vandalised in in #calgary,...\n",
              "31961      0                   thank you @user for you follow  "
            ],
            "text/html": [
              "\n",
              "  <div id=\"df-dfd1c30e-17cc-4bd7-ab13-76d266944057\">\n",
              "    <div class=\"colab-df-container\">\n",
              "      <div>\n",
              "<style scoped>\n",
              "    .dataframe tbody tr th:only-of-type {\n",
              "        vertical-align: middle;\n",
              "    }\n",
              "\n",
              "    .dataframe tbody tr th {\n",
              "        vertical-align: top;\n",
              "    }\n",
              "\n",
              "    .dataframe thead th {\n",
              "        text-align: right;\n",
              "    }\n",
              "</style>\n",
              "<table border=\"1\" class=\"dataframe\">\n",
              "  <thead>\n",
              "    <tr style=\"text-align: right;\">\n",
              "      <th></th>\n",
              "      <th>label</th>\n",
              "      <th>tweet</th>\n",
              "    </tr>\n",
              "  </thead>\n",
              "  <tbody>\n",
              "    <tr>\n",
              "      <th>31957</th>\n",
              "      <td>0</td>\n",
              "      <td>ate @user isz that youuu?ðððððð...</td>\n",
              "    </tr>\n",
              "    <tr>\n",
              "      <th>31958</th>\n",
              "      <td>0</td>\n",
              "      <td>to see nina turner on the airwaves trying to...</td>\n",
              "    </tr>\n",
              "    <tr>\n",
              "      <th>31959</th>\n",
              "      <td>0</td>\n",
              "      <td>listening to sad songs on a monday morning otw...</td>\n",
              "    </tr>\n",
              "    <tr>\n",
              "      <th>31960</th>\n",
              "      <td>1</td>\n",
              "      <td>@user #sikh #temple vandalised in in #calgary,...</td>\n",
              "    </tr>\n",
              "    <tr>\n",
              "      <th>31961</th>\n",
              "      <td>0</td>\n",
              "      <td>thank you @user for you follow</td>\n",
              "    </tr>\n",
              "  </tbody>\n",
              "</table>\n",
              "</div>\n",
              "      <button class=\"colab-df-convert\" onclick=\"convertToInteractive('df-dfd1c30e-17cc-4bd7-ab13-76d266944057')\"\n",
              "              title=\"Convert this dataframe to an interactive table.\"\n",
              "              style=\"display:none;\">\n",
              "        \n",
              "  <svg xmlns=\"http://www.w3.org/2000/svg\" height=\"24px\"viewBox=\"0 0 24 24\"\n",
              "       width=\"24px\">\n",
              "    <path d=\"M0 0h24v24H0V0z\" fill=\"none\"/>\n",
              "    <path d=\"M18.56 5.44l.94 2.06.94-2.06 2.06-.94-2.06-.94-.94-2.06-.94 2.06-2.06.94zm-11 1L8.5 8.5l.94-2.06 2.06-.94-2.06-.94L8.5 2.5l-.94 2.06-2.06.94zm10 10l.94 2.06.94-2.06 2.06-.94-2.06-.94-.94-2.06-.94 2.06-2.06.94z\"/><path d=\"M17.41 7.96l-1.37-1.37c-.4-.4-.92-.59-1.43-.59-.52 0-1.04.2-1.43.59L10.3 9.45l-7.72 7.72c-.78.78-.78 2.05 0 2.83L4 21.41c.39.39.9.59 1.41.59.51 0 1.02-.2 1.41-.59l7.78-7.78 2.81-2.81c.8-.78.8-2.07 0-2.86zM5.41 20L4 18.59l7.72-7.72 1.47 1.35L5.41 20z\"/>\n",
              "  </svg>\n",
              "      </button>\n",
              "      \n",
              "  <style>\n",
              "    .colab-df-container {\n",
              "      display:flex;\n",
              "      flex-wrap:wrap;\n",
              "      gap: 12px;\n",
              "    }\n",
              "\n",
              "    .colab-df-convert {\n",
              "      background-color: #E8F0FE;\n",
              "      border: none;\n",
              "      border-radius: 50%;\n",
              "      cursor: pointer;\n",
              "      display: none;\n",
              "      fill: #1967D2;\n",
              "      height: 32px;\n",
              "      padding: 0 0 0 0;\n",
              "      width: 32px;\n",
              "    }\n",
              "\n",
              "    .colab-df-convert:hover {\n",
              "      background-color: #E2EBFA;\n",
              "      box-shadow: 0px 1px 2px rgba(60, 64, 67, 0.3), 0px 1px 3px 1px rgba(60, 64, 67, 0.15);\n",
              "      fill: #174EA6;\n",
              "    }\n",
              "\n",
              "    [theme=dark] .colab-df-convert {\n",
              "      background-color: #3B4455;\n",
              "      fill: #D2E3FC;\n",
              "    }\n",
              "\n",
              "    [theme=dark] .colab-df-convert:hover {\n",
              "      background-color: #434B5C;\n",
              "      box-shadow: 0px 1px 3px 1px rgba(0, 0, 0, 0.15);\n",
              "      filter: drop-shadow(0px 1px 2px rgba(0, 0, 0, 0.3));\n",
              "      fill: #FFFFFF;\n",
              "    }\n",
              "  </style>\n",
              "\n",
              "      <script>\n",
              "        const buttonEl =\n",
              "          document.querySelector('#df-dfd1c30e-17cc-4bd7-ab13-76d266944057 button.colab-df-convert');\n",
              "        buttonEl.style.display =\n",
              "          google.colab.kernel.accessAllowed ? 'block' : 'none';\n",
              "\n",
              "        async function convertToInteractive(key) {\n",
              "          const element = document.querySelector('#df-dfd1c30e-17cc-4bd7-ab13-76d266944057');\n",
              "          const dataTable =\n",
              "            await google.colab.kernel.invokeFunction('convertToInteractive',\n",
              "                                                     [key], {});\n",
              "          if (!dataTable) return;\n",
              "\n",
              "          const docLinkHtml = 'Like what you see? Visit the ' +\n",
              "            '<a target=\"_blank\" href=https://colab.research.google.com/notebooks/data_table.ipynb>data table notebook</a>'\n",
              "            + ' to learn more about interactive tables.';\n",
              "          element.innerHTML = '';\n",
              "          dataTable['output_type'] = 'display_data';\n",
              "          await google.colab.output.renderOutput(dataTable, element);\n",
              "          const docLink = document.createElement('div');\n",
              "          docLink.innerHTML = docLinkHtml;\n",
              "          element.appendChild(docLink);\n",
              "        }\n",
              "      </script>\n",
              "    </div>\n",
              "  </div>\n",
              "  "
            ]
          },
          "metadata": {},
          "execution_count": 6
        }
      ]
    },
    {
      "cell_type": "markdown",
      "source": [
        "#### train_test_split"
      ],
      "metadata": {
        "id": "MAc6VszdIaDD"
      }
    },
    {
      "cell_type": "code",
      "source": [
        "train_df, test_df = train_test_split(df, test_size=0.3, random_state=42)\n",
        "\n",
        "train_df.reset_index(drop=True, inplace=True)\n",
        "test_df.reset_index(drop=True, inplace=True)\n",
        "\n",
        "train_df.tail()"
      ],
      "metadata": {
        "colab": {
          "base_uri": "https://localhost:8080/",
          "height": 206
        },
        "id": "HVwSuTkIIY5S",
        "outputId": "19fe35be-ba3e-46f5-fc1c-960b9e0109ce"
      },
      "execution_count": 7,
      "outputs": [
        {
          "output_type": "execute_result",
          "data": {
            "text/plain": [
              "       label                                              tweet\n",
              "22368      0  #waltdisneyreso  should be ashamed of themselv...\n",
              "22369      0   @user invited @user over for a catch up and i...\n",
              "22370      1  black professor makes assumptions about an ent...\n",
              "22371      0  #lgbtqhatetrumppay is total #liberal trash. it...\n",
              "22372      0  what makes people   is relative. we have our w..."
            ],
            "text/html": [
              "\n",
              "  <div id=\"df-52b47a80-e50e-4810-af8f-8c309d0a87a1\">\n",
              "    <div class=\"colab-df-container\">\n",
              "      <div>\n",
              "<style scoped>\n",
              "    .dataframe tbody tr th:only-of-type {\n",
              "        vertical-align: middle;\n",
              "    }\n",
              "\n",
              "    .dataframe tbody tr th {\n",
              "        vertical-align: top;\n",
              "    }\n",
              "\n",
              "    .dataframe thead th {\n",
              "        text-align: right;\n",
              "    }\n",
              "</style>\n",
              "<table border=\"1\" class=\"dataframe\">\n",
              "  <thead>\n",
              "    <tr style=\"text-align: right;\">\n",
              "      <th></th>\n",
              "      <th>label</th>\n",
              "      <th>tweet</th>\n",
              "    </tr>\n",
              "  </thead>\n",
              "  <tbody>\n",
              "    <tr>\n",
              "      <th>22368</th>\n",
              "      <td>0</td>\n",
              "      <td>#waltdisneyreso  should be ashamed of themselv...</td>\n",
              "    </tr>\n",
              "    <tr>\n",
              "      <th>22369</th>\n",
              "      <td>0</td>\n",
              "      <td>@user invited @user over for a catch up and i...</td>\n",
              "    </tr>\n",
              "    <tr>\n",
              "      <th>22370</th>\n",
              "      <td>1</td>\n",
              "      <td>black professor makes assumptions about an ent...</td>\n",
              "    </tr>\n",
              "    <tr>\n",
              "      <th>22371</th>\n",
              "      <td>0</td>\n",
              "      <td>#lgbtqhatetrumppay is total #liberal trash. it...</td>\n",
              "    </tr>\n",
              "    <tr>\n",
              "      <th>22372</th>\n",
              "      <td>0</td>\n",
              "      <td>what makes people   is relative. we have our w...</td>\n",
              "    </tr>\n",
              "  </tbody>\n",
              "</table>\n",
              "</div>\n",
              "      <button class=\"colab-df-convert\" onclick=\"convertToInteractive('df-52b47a80-e50e-4810-af8f-8c309d0a87a1')\"\n",
              "              title=\"Convert this dataframe to an interactive table.\"\n",
              "              style=\"display:none;\">\n",
              "        \n",
              "  <svg xmlns=\"http://www.w3.org/2000/svg\" height=\"24px\"viewBox=\"0 0 24 24\"\n",
              "       width=\"24px\">\n",
              "    <path d=\"M0 0h24v24H0V0z\" fill=\"none\"/>\n",
              "    <path d=\"M18.56 5.44l.94 2.06.94-2.06 2.06-.94-2.06-.94-.94-2.06-.94 2.06-2.06.94zm-11 1L8.5 8.5l.94-2.06 2.06-.94-2.06-.94L8.5 2.5l-.94 2.06-2.06.94zm10 10l.94 2.06.94-2.06 2.06-.94-2.06-.94-.94-2.06-.94 2.06-2.06.94z\"/><path d=\"M17.41 7.96l-1.37-1.37c-.4-.4-.92-.59-1.43-.59-.52 0-1.04.2-1.43.59L10.3 9.45l-7.72 7.72c-.78.78-.78 2.05 0 2.83L4 21.41c.39.39.9.59 1.41.59.51 0 1.02-.2 1.41-.59l7.78-7.78 2.81-2.81c.8-.78.8-2.07 0-2.86zM5.41 20L4 18.59l7.72-7.72 1.47 1.35L5.41 20z\"/>\n",
              "  </svg>\n",
              "      </button>\n",
              "      \n",
              "  <style>\n",
              "    .colab-df-container {\n",
              "      display:flex;\n",
              "      flex-wrap:wrap;\n",
              "      gap: 12px;\n",
              "    }\n",
              "\n",
              "    .colab-df-convert {\n",
              "      background-color: #E8F0FE;\n",
              "      border: none;\n",
              "      border-radius: 50%;\n",
              "      cursor: pointer;\n",
              "      display: none;\n",
              "      fill: #1967D2;\n",
              "      height: 32px;\n",
              "      padding: 0 0 0 0;\n",
              "      width: 32px;\n",
              "    }\n",
              "\n",
              "    .colab-df-convert:hover {\n",
              "      background-color: #E2EBFA;\n",
              "      box-shadow: 0px 1px 2px rgba(60, 64, 67, 0.3), 0px 1px 3px 1px rgba(60, 64, 67, 0.15);\n",
              "      fill: #174EA6;\n",
              "    }\n",
              "\n",
              "    [theme=dark] .colab-df-convert {\n",
              "      background-color: #3B4455;\n",
              "      fill: #D2E3FC;\n",
              "    }\n",
              "\n",
              "    [theme=dark] .colab-df-convert:hover {\n",
              "      background-color: #434B5C;\n",
              "      box-shadow: 0px 1px 3px 1px rgba(0, 0, 0, 0.15);\n",
              "      filter: drop-shadow(0px 1px 2px rgba(0, 0, 0, 0.3));\n",
              "      fill: #FFFFFF;\n",
              "    }\n",
              "  </style>\n",
              "\n",
              "      <script>\n",
              "        const buttonEl =\n",
              "          document.querySelector('#df-52b47a80-e50e-4810-af8f-8c309d0a87a1 button.colab-df-convert');\n",
              "        buttonEl.style.display =\n",
              "          google.colab.kernel.accessAllowed ? 'block' : 'none';\n",
              "\n",
              "        async function convertToInteractive(key) {\n",
              "          const element = document.querySelector('#df-52b47a80-e50e-4810-af8f-8c309d0a87a1');\n",
              "          const dataTable =\n",
              "            await google.colab.kernel.invokeFunction('convertToInteractive',\n",
              "                                                     [key], {});\n",
              "          if (!dataTable) return;\n",
              "\n",
              "          const docLinkHtml = 'Like what you see? Visit the ' +\n",
              "            '<a target=\"_blank\" href=https://colab.research.google.com/notebooks/data_table.ipynb>data table notebook</a>'\n",
              "            + ' to learn more about interactive tables.';\n",
              "          element.innerHTML = '';\n",
              "          dataTable['output_type'] = 'display_data';\n",
              "          await google.colab.output.renderOutput(dataTable, element);\n",
              "          const docLink = document.createElement('div');\n",
              "          docLink.innerHTML = docLinkHtml;\n",
              "          element.appendChild(docLink);\n",
              "        }\n",
              "      </script>\n",
              "    </div>\n",
              "  </div>\n",
              "  "
            ]
          },
          "metadata": {},
          "execution_count": 7
        }
      ]
    },
    {
      "cell_type": "code",
      "source": [
        "train_df['label'].value_counts()"
      ],
      "metadata": {
        "colab": {
          "base_uri": "https://localhost:8080/"
        },
        "id": "b9sgeynPdSkx",
        "outputId": "2432a64e-3a4d-4f0f-b837-95a73d71b8c4"
      },
      "execution_count": 8,
      "outputs": [
        {
          "output_type": "execute_result",
          "data": {
            "text/plain": [
              "0    20815\n",
              "1     1558\n",
              "Name: label, dtype: int64"
            ]
          },
          "metadata": {},
          "execution_count": 8
        }
      ]
    },
    {
      "cell_type": "code",
      "source": [
        "disbalance = train_df['label'].value_counts()[0] / train_df['label'].value_counts()[1]\n",
        "disbalance"
      ],
      "metadata": {
        "colab": {
          "base_uri": "https://localhost:8080/"
        },
        "id": "8ruM4Km4e-VM",
        "outputId": "2fcc4af0-002b-49da-c69f-73eb0fb4e3bf"
      },
      "execution_count": 9,
      "outputs": [
        {
          "output_type": "execute_result",
          "data": {
            "text/plain": [
              "13.36007702182285"
            ]
          },
          "metadata": {},
          "execution_count": 9
        }
      ]
    },
    {
      "cell_type": "markdown",
      "source": [
        "Видно, что у нас есть сильный дизбаланс классов"
      ],
      "metadata": {
        "id": "STSRYoO6uXs8"
      }
    },
    {
      "cell_type": "markdown",
      "source": [
        "### Предобработка"
      ],
      "metadata": {
        "id": "wKwThTnHi1T4"
      }
    },
    {
      "cell_type": "markdown",
      "source": [
        "Стоп слова, которые не несут большой смысловой нагрузки"
      ],
      "metadata": {
        "id": "ShbmdeQruetU"
      }
    },
    {
      "cell_type": "code",
      "source": [
        "sw = set(get_stop_words('en'))\n",
        "sw"
      ],
      "metadata": {
        "colab": {
          "base_uri": "https://localhost:8080/"
        },
        "id": "cDEULiJfjEFw",
        "outputId": "f0c6e8f1-cfc1-4bae-8f18-9f64478f9be4"
      },
      "execution_count": 10,
      "outputs": [
        {
          "output_type": "execute_result",
          "data": {
            "text/plain": [
              "{'a',\n",
              " 'about',\n",
              " 'above',\n",
              " 'after',\n",
              " 'again',\n",
              " 'against',\n",
              " 'all',\n",
              " 'am',\n",
              " 'an',\n",
              " 'and',\n",
              " 'any',\n",
              " 'are',\n",
              " \"aren't\",\n",
              " 'as',\n",
              " 'at',\n",
              " 'be',\n",
              " 'because',\n",
              " 'been',\n",
              " 'before',\n",
              " 'being',\n",
              " 'below',\n",
              " 'between',\n",
              " 'both',\n",
              " 'but',\n",
              " 'by',\n",
              " \"can't\",\n",
              " 'cannot',\n",
              " 'could',\n",
              " \"couldn't\",\n",
              " 'did',\n",
              " \"didn't\",\n",
              " 'do',\n",
              " 'does',\n",
              " \"doesn't\",\n",
              " 'doing',\n",
              " \"don't\",\n",
              " 'down',\n",
              " 'during',\n",
              " 'each',\n",
              " 'few',\n",
              " 'for',\n",
              " 'from',\n",
              " 'further',\n",
              " 'had',\n",
              " \"hadn't\",\n",
              " 'has',\n",
              " \"hasn't\",\n",
              " 'have',\n",
              " \"haven't\",\n",
              " 'having',\n",
              " 'he',\n",
              " \"he'd\",\n",
              " \"he'll\",\n",
              " \"he's\",\n",
              " 'her',\n",
              " 'here',\n",
              " \"here's\",\n",
              " 'hers',\n",
              " 'herself',\n",
              " 'him',\n",
              " 'himself',\n",
              " 'his',\n",
              " 'how',\n",
              " \"how's\",\n",
              " 'i',\n",
              " \"i'd\",\n",
              " \"i'll\",\n",
              " \"i'm\",\n",
              " \"i've\",\n",
              " 'if',\n",
              " 'in',\n",
              " 'into',\n",
              " 'is',\n",
              " \"isn't\",\n",
              " 'it',\n",
              " \"it's\",\n",
              " 'its',\n",
              " 'itself',\n",
              " \"let's\",\n",
              " 'me',\n",
              " 'more',\n",
              " 'most',\n",
              " \"mustn't\",\n",
              " 'my',\n",
              " 'myself',\n",
              " 'no',\n",
              " 'nor',\n",
              " 'not',\n",
              " 'of',\n",
              " 'off',\n",
              " 'on',\n",
              " 'once',\n",
              " 'only',\n",
              " 'or',\n",
              " 'other',\n",
              " 'ought',\n",
              " 'our',\n",
              " 'ours',\n",
              " 'ourselves',\n",
              " 'out',\n",
              " 'over',\n",
              " 'own',\n",
              " 'same',\n",
              " \"shan't\",\n",
              " 'she',\n",
              " \"she'd\",\n",
              " \"she'll\",\n",
              " \"she's\",\n",
              " 'should',\n",
              " \"shouldn't\",\n",
              " 'so',\n",
              " 'some',\n",
              " 'such',\n",
              " 'than',\n",
              " 'that',\n",
              " \"that's\",\n",
              " 'the',\n",
              " 'their',\n",
              " 'theirs',\n",
              " 'them',\n",
              " 'themselves',\n",
              " 'then',\n",
              " 'there',\n",
              " \"there's\",\n",
              " 'these',\n",
              " 'they',\n",
              " \"they'd\",\n",
              " \"they'll\",\n",
              " \"they're\",\n",
              " \"they've\",\n",
              " 'this',\n",
              " 'those',\n",
              " 'through',\n",
              " 'to',\n",
              " 'too',\n",
              " 'under',\n",
              " 'until',\n",
              " 'up',\n",
              " 'very',\n",
              " 'was',\n",
              " \"wasn't\",\n",
              " 'we',\n",
              " \"we'd\",\n",
              " \"we'll\",\n",
              " \"we're\",\n",
              " \"we've\",\n",
              " 'were',\n",
              " \"weren't\",\n",
              " 'what',\n",
              " \"what's\",\n",
              " 'when',\n",
              " \"when's\",\n",
              " 'where',\n",
              " \"where's\",\n",
              " 'which',\n",
              " 'while',\n",
              " 'who',\n",
              " \"who's\",\n",
              " 'whom',\n",
              " 'why',\n",
              " \"why's\",\n",
              " 'with',\n",
              " \"won't\",\n",
              " 'would',\n",
              " \"wouldn't\",\n",
              " 'you',\n",
              " \"you'd\",\n",
              " \"you'll\",\n",
              " \"you're\",\n",
              " \"you've\",\n",
              " 'your',\n",
              " 'yours',\n",
              " 'yourself',\n",
              " 'yourselves'}"
            ]
          },
          "metadata": {},
          "execution_count": 10
        }
      ]
    },
    {
      "cell_type": "markdown",
      "source": [
        "Уберём из них отрицание, так как, допустим, оно несёт смысл"
      ],
      "metadata": {
        "id": "yHLGhzahukZO"
      }
    },
    {
      "cell_type": "code",
      "source": [
        "sw.remove('not')\n",
        "sw.remove('nor')\n",
        "sw.remove('no')"
      ],
      "metadata": {
        "id": "-2uP6pv1EySu"
      },
      "execution_count": 11,
      "outputs": []
    },
    {
      "cell_type": "markdown",
      "source": [
        "Обозначим возможные символы"
      ],
      "metadata": {
        "id": "RE4xETcEvHL9"
      }
    },
    {
      "cell_type": "code",
      "source": [
        "ascii_plus = ascii_lowercase + \"' \"\n",
        "ascii_plus"
      ],
      "metadata": {
        "colab": {
          "base_uri": "https://localhost:8080/",
          "height": 36
        },
        "id": "smYIjkqgW17f",
        "outputId": "96110605-1ab7-4927-c1dd-534854c8d389"
      },
      "execution_count": 12,
      "outputs": [
        {
          "output_type": "execute_result",
          "data": {
            "text/plain": [
              "\"abcdefghijklmnopqrstuvwxyz' \""
            ],
            "application/vnd.google.colaboratory.intrinsic+json": {
              "type": "string"
            }
          },
          "metadata": {},
          "execution_count": 12
        }
      ]
    },
    {
      "cell_type": "markdown",
      "source": [
        "Попробуем развернуть сокращения с отрицанием, чтобы его оттуда вытянуть"
      ],
      "metadata": {
        "id": "MXPc1sJtveTG"
      }
    },
    {
      "cell_type": "code",
      "source": [
        "contractions = { \n",
        "\"ain't\": \"am not\",\n",
        "\"aren't\": \"are not\",\n",
        "\"can't\": \"can not\",\n",
        "\"can't've\": \"can not have\",\n",
        "\"couldn't\": \"could not\",\n",
        "\"couldn't've\": \"could not have\",\n",
        "\"didn't\": \"did not\",\n",
        "\"doesn't\": \"does not\",\n",
        "\"don't\": \"do not\",\n",
        "\"hadn't\": \"had not\",\n",
        "\"hadn't've\": \"had not have\",\n",
        "\"hasn't\": \"has not\",\n",
        "\"haven't\": \"have not\",\n",
        "\"isn't\": \"is not\",\n",
        "\"mayn't\": \"may not\",\n",
        "\"mightn't\": \"might not\",\n",
        "\"mightn't've\": \"might not have\",\n",
        "\"mustn't\": \"must not\",\n",
        "\"mustn't've\": \"must not have\",\n",
        "\"needn't\": \"need not\",\n",
        "\"needn't've\": \"need not have\",\n",
        "\"oughtn't\": \"ought not\",\n",
        "\"oughtn't've\": \"ought not have\",\n",
        "\"shan't\": \"shall not\",\n",
        "\"sha'n't\": \"shall not\",\n",
        "\"shan't've\": \"shall not have\",\n",
        "\"shouldn't\": \"should not\",\n",
        "\"shouldn't've\": \"should not have\",\n",
        "\"wasn't\": \"was not\",\n",
        "\"weren't\": \"were not\",\n",
        "\"won't\": \"will not\",\n",
        "\"won't've\": \"will not have\",\n",
        "\"wouldn't\": \"would not\",\n",
        "\"wouldn't've\": \"would not have\"\n",
        "}"
      ],
      "metadata": {
        "id": "FxbMJcZiyU57"
      },
      "execution_count": 13,
      "outputs": []
    },
    {
      "cell_type": "code",
      "source": [
        "lemmatizer = nltk.stem.WordNetLemmatizer()\n",
        "lemmatizer.lemmatize('feet')"
      ],
      "metadata": {
        "colab": {
          "base_uri": "https://localhost:8080/",
          "height": 36
        },
        "id": "SA6erWElkbgC",
        "outputId": "42b42081-0d92-4d81-ac65-27a5f31fb0fe"
      },
      "execution_count": 14,
      "outputs": [
        {
          "output_type": "execute_result",
          "data": {
            "text/plain": [
              "'foot'"
            ],
            "application/vnd.google.colaboratory.intrinsic+json": {
              "type": "string"
            }
          },
          "metadata": {},
          "execution_count": 14
        }
      ]
    },
    {
      "cell_type": "markdown",
      "source": [
        "Соединим отрицание с последующем информативным словом"
      ],
      "metadata": {
        "id": "Cn3NCJA8vvoI"
      }
    },
    {
      "cell_type": "code",
      "source": [
        "def preprocess_text(txt, ascii_plus, contractions, lemmatizer):\n",
        "    txt = txt.lower()\n",
        "    txt = \"\".join(s for s in txt if s in ascii_plus)\n",
        "    txt = \" \".join(contractions[word] if word in contractions.keys() else word for word in txt.split())\n",
        "    txt = \"\".join(s for s in txt if s != \"'\")\n",
        "    txt = \" \".join(lemmatizer.lemmatize(word) for word in txt.split() if word not in sw)\n",
        "    txt = re.sub(\"not\\s\", \"not\", txt)\n",
        "    txt = re.sub(\"nor\\s\", \"nor\", txt)\n",
        "    txt = re.sub(\"no\\s\", \"no\", txt)\n",
        "    return txt"
      ],
      "metadata": {
        "id": "_zhZhlQAlMVZ"
      },
      "execution_count": 15,
      "outputs": []
    },
    {
      "cell_type": "code",
      "source": [
        "train_df['tweet'][1]"
      ],
      "metadata": {
        "colab": {
          "base_uri": "https://localhost:8080/",
          "height": 36
        },
        "id": "-GkRHg__V5gj",
        "outputId": "0c498c04-3472-41aa-ab39-3a3c2885a1fb"
      },
      "execution_count": 16,
      "outputs": [
        {
          "output_type": "execute_result",
          "data": {
            "text/plain": [
              "'dese niggas will show dese otha bitches on fb, snap nd twitter more attention then dey do their own girl   but #true ð\\x9f\\x92¯'"
            ],
            "application/vnd.google.colaboratory.intrinsic+json": {
              "type": "string"
            }
          },
          "metadata": {},
          "execution_count": 16
        }
      ]
    },
    {
      "cell_type": "code",
      "source": [
        "preprocess_text(train_df['tweet'][1], ascii_plus, contractions, lemmatizer)"
      ],
      "metadata": {
        "colab": {
          "base_uri": "https://localhost:8080/",
          "height": 36
        },
        "id": "jfhF3KvJTHIp",
        "outputId": "d1d2dbdf-1607-4139-e0bc-b25d2794f00a"
      },
      "execution_count": 17,
      "outputs": [
        {
          "output_type": "execute_result",
          "data": {
            "text/plain": [
              "'dese nigga will show dese otha bitch fb snap nd twitter attention dey girl true'"
            ],
            "application/vnd.google.colaboratory.intrinsic+json": {
              "type": "string"
            }
          },
          "metadata": {},
          "execution_count": 17
        }
      ]
    },
    {
      "cell_type": "code",
      "source": [
        "train_df['tweet'].tail()"
      ],
      "metadata": {
        "colab": {
          "base_uri": "https://localhost:8080/"
        },
        "id": "B6bOPX6DYFD-",
        "outputId": "a63bd2cc-911d-4405-a9f9-336000d7954c"
      },
      "execution_count": 18,
      "outputs": [
        {
          "output_type": "execute_result",
          "data": {
            "text/plain": [
              "22368    #waltdisneyreso  should be ashamed of themselv...\n",
              "22369     @user invited @user over for a catch up and i...\n",
              "22370    black professor makes assumptions about an ent...\n",
              "22371    #lgbtqhatetrumppay is total #liberal trash. it...\n",
              "22372    what makes people   is relative. we have our w...\n",
              "Name: tweet, dtype: object"
            ]
          },
          "metadata": {},
          "execution_count": 18
        }
      ]
    },
    {
      "cell_type": "code",
      "source": [
        "train_df['tweet_preprocess'] = train_df['tweet'].apply(lambda txt: preprocess_text(txt, ascii_plus, contractions, lemmatizer))\n",
        "test_df['tweet_preprocess'] = test_df['tweet'].apply(lambda txt: preprocess_text(txt, ascii_plus, contractions, lemmatizer))\n",
        "train_df['tweet_preprocess'].tail()"
      ],
      "metadata": {
        "colab": {
          "base_uri": "https://localhost:8080/"
        },
        "id": "brvSP0KHq6-_",
        "outputId": "bab3b62f-650e-43bb-ee72-82342601c823"
      },
      "execution_count": 19,
      "outputs": [
        {
          "output_type": "execute_result",
          "data": {
            "text/plain": [
              "22368    waltdisneyreso ashamed knew alligator beach si...\n",
              "22369    user invited user catch notstop talking much l...\n",
              "22370    black professor make assumption entire race wh...\n",
              "22371    lgbtqhatetrumppay total liberal trash amp path...\n",
              "22372                      make people relative way africa\n",
              "Name: tweet_preprocess, dtype: object"
            ]
          },
          "metadata": {},
          "execution_count": 19
        }
      ]
    },
    {
      "cell_type": "markdown",
      "source": [
        "Сравнивая токенизацию и split, находим, что они отличаются только в 158 примерах"
      ],
      "metadata": {
        "id": "3cRiJ3NUwHYT"
      }
    },
    {
      "cell_type": "code",
      "source": [
        "train_df['tweet_preprocess'].apply(lambda txt: nltk.tokenize.word_tokenize(txt) != txt.split()).sum()"
      ],
      "metadata": {
        "colab": {
          "base_uri": "https://localhost:8080/"
        },
        "id": "Silan_kWcDE8",
        "outputId": "f1c2d9fc-b801-48f3-ac12-27be84ff3e2e"
      },
      "execution_count": 20,
      "outputs": [
        {
          "output_type": "execute_result",
          "data": {
            "text/plain": [
              "158"
            ]
          },
          "metadata": {},
          "execution_count": 20
        }
      ]
    },
    {
      "cell_type": "code",
      "source": [
        "j = 0\n",
        "for i in train_df['tweet_preprocess'].apply(lambda txt: nltk.tokenize.word_tokenize(txt) != txt.split()):\n",
        "  if i:\n",
        "    print(j)\n",
        "    break\n",
        "  j +=1"
      ],
      "metadata": {
        "colab": {
          "base_uri": "https://localhost:8080/"
        },
        "id": "czrv4PBSZ410",
        "outputId": "a1fca128-f31b-4321-d4a8-1dd65b346676"
      },
      "execution_count": 21,
      "outputs": [
        {
          "output_type": "stream",
          "name": "stdout",
          "text": [
            "136\n"
          ]
        }
      ]
    },
    {
      "cell_type": "code",
      "source": [
        "train_df['tweet_preprocess'][j]"
      ],
      "metadata": {
        "colab": {
          "base_uri": "https://localhost:8080/",
          "height": 36
        },
        "id": "FuECP0g1cKO8",
        "outputId": "19184605-2ed2-444f-9537-cab6b83729c1"
      },
      "execution_count": 22,
      "outputs": [
        {
          "output_type": "execute_result",
          "data": {
            "text/plain": [
              "'now see come friday gotta go see'"
            ],
            "application/vnd.google.colaboratory.intrinsic+json": {
              "type": "string"
            }
          },
          "metadata": {},
          "execution_count": 22
        }
      ]
    },
    {
      "cell_type": "code",
      "source": [
        "train_df['tweet_preprocess'][j].split()"
      ],
      "metadata": {
        "colab": {
          "base_uri": "https://localhost:8080/"
        },
        "id": "BhjVOX8FcSlJ",
        "outputId": "79dacd39-88c4-4564-a589-910c624e74c4"
      },
      "execution_count": 23,
      "outputs": [
        {
          "output_type": "execute_result",
          "data": {
            "text/plain": [
              "['now', 'see', 'come', 'friday', 'gotta', 'go', 'see']"
            ]
          },
          "metadata": {},
          "execution_count": 23
        }
      ]
    },
    {
      "cell_type": "code",
      "source": [
        "nltk.tokenize.word_tokenize(train_df['tweet_preprocess'][j])"
      ],
      "metadata": {
        "colab": {
          "base_uri": "https://localhost:8080/"
        },
        "id": "GCPom0ehaa8N",
        "outputId": "fb5b9ee8-75e5-4e26-81e3-4e88b161bd96"
      },
      "execution_count": 24,
      "outputs": [
        {
          "output_type": "execute_result",
          "data": {
            "text/plain": [
              "['now', 'see', 'come', 'friday', 'got', 'ta', 'go', 'see']"
            ]
          },
          "metadata": {},
          "execution_count": 24
        }
      ]
    },
    {
      "cell_type": "markdown",
      "source": [
        "Видно, что токенизация даёт ненужные новые сущности, разделяя такие слова как gotta, чего нам бы не хотелось"
      ],
      "metadata": {
        "id": "Z5lTbPzFwX4O"
      }
    },
    {
      "cell_type": "code",
      "source": [
        "train_df['tweet_split'] = train_df['tweet_preprocess'].apply(lambda txt: txt.split())\n",
        "test_df['tweet_split'] = test_df['tweet_preprocess'].apply(lambda txt: txt.split())\n",
        "train_df['tweet_split'].tail()"
      ],
      "metadata": {
        "colab": {
          "base_uri": "https://localhost:8080/"
        },
        "id": "eZ66MxPScbrM",
        "outputId": "fb1fbbfd-71d5-4c56-ec98-5885c8ac67e8"
      },
      "execution_count": 25,
      "outputs": [
        {
          "output_type": "execute_result",
          "data": {
            "text/plain": [
              "22368    [waltdisneyreso, ashamed, knew, alligator, bea...\n",
              "22369    [user, invited, user, catch, notstop, talking,...\n",
              "22370    [black, professor, make, assumption, entire, r...\n",
              "22371    [lgbtqhatetrumppay, total, liberal, trash, amp...\n",
              "22372                [make, people, relative, way, africa]\n",
              "Name: tweet_split, dtype: object"
            ]
          },
          "metadata": {},
          "execution_count": 25
        }
      ]
    },
    {
      "cell_type": "code",
      "source": [
        "tokens = dict()\n",
        "\n",
        "for txt in train_df['tweet_split']:\n",
        "  for word in txt:\n",
        "    tokens[word] = tokens.get(word, 0) + 1\n",
        "\n",
        "sorted_tokens = sorted(tokens, key=tokens.get, reverse=True)"
      ],
      "metadata": {
        "id": "HS5okMKgfsYT"
      },
      "execution_count": 26,
      "outputs": []
    },
    {
      "cell_type": "code",
      "source": [
        "for i in range(10):\n",
        "  print(sorted_tokens[i], tokens[sorted_tokens[i]])"
      ],
      "metadata": {
        "colab": {
          "base_uri": "https://localhost:8080/"
        },
        "id": "tiVYvlAl__Mj",
        "outputId": "04e476e4-a4f0-4e83-c787-5811d84d5a09"
      },
      "execution_count": 27,
      "outputs": [
        {
          "output_type": "stream",
          "name": "stdout",
          "text": [
            "user 12203\n",
            "day 1964\n",
            "love 1925\n",
            "happy 1184\n",
            "u 1165\n",
            "amp 1119\n",
            "can 1027\n",
            "will 962\n",
            "just 917\n",
            "life 875\n"
          ]
        }
      ]
    },
    {
      "cell_type": "code",
      "source": [
        "len(sorted_tokens)"
      ],
      "metadata": {
        "colab": {
          "base_uri": "https://localhost:8080/"
        },
        "id": "_4VW0K16Bdd3",
        "outputId": "51a388cc-6253-41ca-8aa4-e32205f35a16"
      },
      "execution_count": 28,
      "outputs": [
        {
          "output_type": "execute_result",
          "data": {
            "text/plain": [
              "30739"
            ]
          },
          "metadata": {},
          "execution_count": 28
        }
      ]
    },
    {
      "cell_type": "code",
      "source": [
        "VOCABULARY_SIZE = 10000\n",
        "VOCABULARY_SIZE"
      ],
      "metadata": {
        "id": "WASgmaXKBf9Z",
        "colab": {
          "base_uri": "https://localhost:8080/"
        },
        "outputId": "5089357a-125e-4603-fbc8-c63910fd7cee"
      },
      "execution_count": 82,
      "outputs": [
        {
          "output_type": "execute_result",
          "data": {
            "text/plain": [
              "10000"
            ]
          },
          "metadata": {},
          "execution_count": 82
        }
      ]
    },
    {
      "cell_type": "markdown",
      "source": [
        "Возьмём из токенов первые VOCABULARY_SIZE-1 элементов, так как у нас будет ещё один элемент 0, обозначающий отсутсвие слова"
      ],
      "metadata": {
        "id": "Ybh-O5HJw0XY"
      }
    },
    {
      "cell_type": "code",
      "source": [
        "vocabulary = {w: i for i, w in enumerate(sorted_tokens[:VOCABULARY_SIZE-1], 1)}\n",
        "for i in list(vocabulary.keys())[:10]:\n",
        "  print(i, vocabulary[i])"
      ],
      "metadata": {
        "colab": {
          "base_uri": "https://localhost:8080/"
        },
        "id": "3nSS_2_n-Z_q",
        "outputId": "4fa65b36-d152-4b37-c905-90404e54b067"
      },
      "execution_count": 83,
      "outputs": [
        {
          "output_type": "stream",
          "name": "stdout",
          "text": [
            "user 1\n",
            "day 2\n",
            "love 3\n",
            "happy 4\n",
            "u 5\n",
            "amp 6\n",
            "can 7\n",
            "will 8\n",
            "just 9\n",
            "life 10\n"
          ]
        }
      ]
    },
    {
      "cell_type": "code",
      "source": [
        "sorted_tokens[VOCABULARY_SIZE-2], tokens[sorted_tokens[VOCABULARY_SIZE-2]]"
      ],
      "metadata": {
        "colab": {
          "base_uri": "https://localhost:8080/"
        },
        "id": "RrJby0oVFBJv",
        "outputId": "4705c0a4-32ef-4526-a473-53ef16de5086"
      },
      "execution_count": 84,
      "outputs": [
        {
          "output_type": "execute_result",
          "data": {
            "text/plain": [
              "('pushed', 2)"
            ]
          },
          "metadata": {},
          "execution_count": 84
        }
      ]
    },
    {
      "cell_type": "markdown",
      "source": [
        "Последний взятый токен встречался всего 2 раза, значит можно предположить, что наш словарь имеет почти все информативные слова"
      ],
      "metadata": {
        "id": "Yd77JqNlxIp2"
      }
    },
    {
      "cell_type": "code",
      "source": [
        "train_df['tweet_split'].apply(lambda txt: len(txt)).max()"
      ],
      "metadata": {
        "colab": {
          "base_uri": "https://localhost:8080/"
        },
        "id": "ps0YlbL-nO9k",
        "outputId": "a8e72cfd-833c-490a-be29-a9765f1a2238"
      },
      "execution_count": 85,
      "outputs": [
        {
          "output_type": "execute_result",
          "data": {
            "text/plain": [
              "24"
            ]
          },
          "metadata": {},
          "execution_count": 85
        }
      ]
    },
    {
      "cell_type": "code",
      "source": [
        "train_df['tweet_split'].apply(lambda txt: len(txt)).mean()"
      ],
      "metadata": {
        "colab": {
          "base_uri": "https://localhost:8080/"
        },
        "id": "S9aohwcIxsuA",
        "outputId": "91c4ac3c-eeb9-4241-dd49-d7e7e49d3fef"
      },
      "execution_count": 135,
      "outputs": [
        {
          "output_type": "execute_result",
          "data": {
            "text/plain": [
              "8.40173423322755"
            ]
          },
          "metadata": {},
          "execution_count": 135
        }
      ]
    },
    {
      "cell_type": "code",
      "source": [
        "MAX_LEN = 10\n",
        "MAX_LEN"
      ],
      "metadata": {
        "id": "o3kvgoJGGNSi",
        "colab": {
          "base_uri": "https://localhost:8080/"
        },
        "outputId": "8c0fd5b6-9dae-4808-e5f5-1ca8c92eae28"
      },
      "execution_count": 86,
      "outputs": [
        {
          "output_type": "execute_result",
          "data": {
            "text/plain": [
              "10"
            ]
          },
          "metadata": {},
          "execution_count": 86
        }
      ]
    },
    {
      "cell_type": "markdown",
      "source": [
        "Такой максимальной длиной мы довольно хорошо описываем наши примеры, так как она больше средней, при этом не перегружаем модель, как если бы мы брали максимальную длину примеров"
      ],
      "metadata": {
        "id": "2vWf_hDfx0NE"
      }
    },
    {
      "cell_type": "markdown",
      "source": [
        "Приведём данные к числовым векторам одинаковой длины"
      ],
      "metadata": {
        "id": "wZSdooINyZ9n"
      }
    },
    {
      "cell_type": "code",
      "source": [
        "def text_to_sequence(txt, vocabulary, max_len):\n",
        "  response = []\n",
        "  for w in txt:\n",
        "    if w in vocabulary.keys():\n",
        "      response.append(vocabulary[w])\n",
        "    if len(response) == max_len:\n",
        "      break\n",
        "  response += [0]*(max_len-len(response))\n",
        "  return response"
      ],
      "metadata": {
        "id": "B-nix8d6LknY"
      },
      "execution_count": 87,
      "outputs": []
    },
    {
      "cell_type": "code",
      "source": [
        "train_df['tweet_vocabulary'] = train_df['tweet_split'].apply(lambda txt: text_to_sequence(txt, vocabulary, MAX_LEN))\n",
        "test_df['tweet_vocabulary'] = test_df['tweet_split'].apply(lambda txt: text_to_sequence(txt, vocabulary, MAX_LEN))\n",
        "train_df['tweet_vocabulary'].tail()"
      ],
      "metadata": {
        "colab": {
          "base_uri": "https://localhost:8080/"
        },
        "id": "QjNQ6IK9GWwg",
        "outputId": "273a0257-1dfc-429c-cb11-7ad6cdc0fc34"
      },
      "execution_count": 88,
      "outputs": [
        {
          "output_type": "execute_result",
          "data": {
            "text/plain": [
              "22368          [2070, 1116, 1245, 193, 651, 1, 0, 0, 0, 0]\n",
              "22369      [1, 2759, 1, 1499, 2267, 642, 78, 3, 197, 2014]\n",
              "22370    [122, 24, 991, 382, 2098, 1944, 991, 382, 86, 37]\n",
              "22371           [1501, 345, 2402, 6, 689, 376, 0, 0, 0, 0]\n",
              "22372              [24, 21, 3191, 42, 1472, 0, 0, 0, 0, 0]\n",
              "Name: tweet_vocabulary, dtype: object"
            ]
          },
          "metadata": {},
          "execution_count": 88
        }
      ]
    },
    {
      "cell_type": "markdown",
      "source": [
        "### Создание модели"
      ],
      "metadata": {
        "id": "vlYPtYlyMXW3"
      }
    },
    {
      "cell_type": "code",
      "source": [
        "class Net(nn.Module):\n",
        "    def __init__(self, max_len, vocab_size, embedding_dim, padding_idx, out_channel, num_classes, dropout):\n",
        "        super().__init__()\n",
        "        self.embedding = nn.Embedding(vocab_size, embedding_dim, padding_idx)\n",
        "        self.bn_1 = nn.BatchNorm1d(embedding_dim)\n",
        "        self.conv_1 = nn.Conv1d(embedding_dim, out_channel, kernel_size=2)\n",
        "        self.bn_2 = nn.BatchNorm1d(out_channel)\n",
        "        self.conv_2 = nn.Conv1d(embedding_dim, out_channel, kernel_size=3)\n",
        "        self.bn_3 = nn.BatchNorm1d(out_channel)\n",
        "        self.pool = nn.MaxPool1d(2)\n",
        "        self.relu = nn.ReLU()\n",
        "        self.linear_1 = nn.Linear(out_channel, out_channel // 2)\n",
        "        self.bn_4 = nn.BatchNorm1d(out_channel // 2)\n",
        "        self.linear_2 = nn.Linear(out_channel // 2, num_classes)\n",
        "\n",
        "        self.dp = nn.Dropout(dropout)\n",
        "        \n",
        "    def forward(self, x):        \n",
        "        output = self.embedding(x)       \n",
        "        output = output.permute(0, 2, 1)\n",
        "        output = self.bn_1(output)\n",
        "        output = self.conv_1(output)\n",
        "        output = self.bn_2(output)\n",
        "        output = self.relu(output)\n",
        "        output = self.dp(output)\n",
        "        output = self.pool(output)\n",
        "\n",
        "        output = self.conv_2(output)\n",
        "        output = self.bn_3(output)\n",
        "        output = self.relu(output)\n",
        "        output = self.dp(output)\n",
        "        output = self.pool(output)\n",
        "        output = torch.max(output, axis=2).values\n",
        "        output = self.linear_1(output)\n",
        "        output = self.bn_4(output)\n",
        "        output = self.relu(output)\n",
        "        output = self.dp(output)\n",
        "        output = self.linear_2(output)\n",
        "        output = torch.sigmoid(output)\n",
        "        return output"
      ],
      "metadata": {
        "id": "JUCLCmZcH5zA"
      },
      "execution_count": 89,
      "outputs": []
    },
    {
      "cell_type": "code",
      "source": [
        "model = Net(MAX_LEN, VOCABULARY_SIZE, 512, 0, 512, 1, 0.2)"
      ],
      "metadata": {
        "id": "xshbsydNrUSb"
      },
      "execution_count": 102,
      "outputs": []
    },
    {
      "cell_type": "code",
      "source": [
        "sum([param.nelement() for param in model.parameters()])"
      ],
      "metadata": {
        "colab": {
          "base_uri": "https://localhost:8080/"
        },
        "id": "O8U7v3xCtUl-",
        "outputId": "e7882b27-ace3-457e-9962-530b60f6e23e"
      },
      "execution_count": 103,
      "outputs": [
        {
          "output_type": "execute_result",
          "data": {
            "text/plain": [
              "6566913"
            ]
          },
          "metadata": {},
          "execution_count": 103
        }
      ]
    },
    {
      "cell_type": "markdown",
      "source": [
        "### Dataset"
      ],
      "metadata": {
        "id": "WMlHpAfF7qyz"
      }
    },
    {
      "cell_type": "code",
      "source": [
        "class DataWrapper(Dataset):\n",
        "    def __init__(self, data, target):\n",
        "        data_numpy = np.array([[j for j in i] for i in data])\n",
        "        self.data = torch.from_numpy(data_numpy).long()\n",
        "        self.target = torch.from_numpy(target).long()\n",
        "        \n",
        "    def __getitem__(self, index):\n",
        "        x = self.data[index]\n",
        "        y = self.target[index]\n",
        "            \n",
        "        return x, y\n",
        "    \n",
        "    def __len__(self):\n",
        "        return len(self.target)"
      ],
      "metadata": {
        "id": "fE1IOezwwMk8"
      },
      "execution_count": 104,
      "outputs": []
    },
    {
      "cell_type": "code",
      "source": [
        "train_data = DataWrapper(train_df['tweet_vocabulary'].values, train_df['label'].values)\n",
        "test_data = DataWrapper(test_df['tweet_vocabulary'].values, test_df['label'].values)"
      ],
      "metadata": {
        "id": "uFCXHLIM8bIc"
      },
      "execution_count": 105,
      "outputs": []
    },
    {
      "cell_type": "markdown",
      "source": [
        "### DataLoader"
      ],
      "metadata": {
        "id": "tKihTLZeRavd"
      }
    },
    {
      "cell_type": "code",
      "source": [
        "train_loader = DataLoader(train_data, batch_size=16, shuffle=True)\n",
        "test_loader = DataLoader(test_data, batch_size=8, shuffle=True)"
      ],
      "metadata": {
        "id": "BK2eQvb08LCf"
      },
      "execution_count": 106,
      "outputs": []
    },
    {
      "cell_type": "markdown",
      "source": [
        "### Обучение"
      ],
      "metadata": {
        "id": "pBsKiRfySWMd"
      }
    },
    {
      "cell_type": "code",
      "source": [
        "device = 'cuda' if torch.cuda.is_available() else 'cpu'\n",
        "device"
      ],
      "metadata": {
        "colab": {
          "base_uri": "https://localhost:8080/",
          "height": 36
        },
        "id": "wz3_tDlUSGy9",
        "outputId": "08764e05-5d79-42de-ebe6-e70f992974d0"
      },
      "execution_count": 107,
      "outputs": [
        {
          "output_type": "execute_result",
          "data": {
            "text/plain": [
              "'cuda'"
            ],
            "application/vnd.google.colaboratory.intrinsic+json": {
              "type": "string"
            }
          },
          "metadata": {},
          "execution_count": 107
        }
      ]
    },
    {
      "cell_type": "markdown",
      "source": [
        "Напишем собственный Loss для учёта дизбаланса классов, умножая потери по положительному классу на степень дизбаланса"
      ],
      "metadata": {
        "id": "IcWniyyJyrrm"
      }
    },
    {
      "cell_type": "code",
      "source": [
        "def BCE_weigh(weight=1):\n",
        "\n",
        "  def loss(input, target):\n",
        "    input = torch.clamp(input,min=1e-7,max=1-1e-7)\n",
        "    target = torch.clamp(target,min=1e-7,max=1-1e-7)\n",
        "    bce = - weight * target * torch.log(input) - (1 - target) * torch.log(1 - input)\n",
        "    return torch.mean(bce)\n",
        "\n",
        "  return loss"
      ],
      "metadata": {
        "id": "a-QPlNOHn35C"
      },
      "execution_count": 108,
      "outputs": []
    },
    {
      "cell_type": "code",
      "source": [
        "model = model.to(device)\n",
        "model.train()"
      ],
      "metadata": {
        "colab": {
          "base_uri": "https://localhost:8080/"
        },
        "id": "HznhpX6ZvIvl",
        "outputId": "67336f94-97a7-4670-aed1-8d30b141e77f"
      },
      "execution_count": 109,
      "outputs": [
        {
          "output_type": "execute_result",
          "data": {
            "text/plain": [
              "Net(\n",
              "  (embedding): Embedding(10000, 512, padding_idx=0)\n",
              "  (bn_1): BatchNorm1d(512, eps=1e-05, momentum=0.1, affine=True, track_running_stats=True)\n",
              "  (conv_1): Conv1d(512, 512, kernel_size=(2,), stride=(1,))\n",
              "  (bn_2): BatchNorm1d(512, eps=1e-05, momentum=0.1, affine=True, track_running_stats=True)\n",
              "  (conv_2): Conv1d(512, 512, kernel_size=(3,), stride=(1,))\n",
              "  (bn_3): BatchNorm1d(512, eps=1e-05, momentum=0.1, affine=True, track_running_stats=True)\n",
              "  (pool): MaxPool1d(kernel_size=2, stride=2, padding=0, dilation=1, ceil_mode=False)\n",
              "  (relu): ReLU()\n",
              "  (linear_1): Linear(in_features=512, out_features=256, bias=True)\n",
              "  (bn_4): BatchNorm1d(256, eps=1e-05, momentum=0.1, affine=True, track_running_stats=True)\n",
              "  (linear_2): Linear(in_features=256, out_features=1, bias=True)\n",
              "  (dp): Dropout(p=0.2, inplace=False)\n",
              ")"
            ]
          },
          "metadata": {},
          "execution_count": 109
        }
      ]
    },
    {
      "cell_type": "code",
      "source": [
        "optimizer = torch.optim.Adam(model.parameters(), lr=0.01)\n",
        "criterion = BCE_weigh(weight=disbalance)"
      ],
      "metadata": {
        "id": "DXLV1UpeSa0Y"
      },
      "execution_count": 110,
      "outputs": []
    },
    {
      "cell_type": "code",
      "source": [
        "threshold = 0.5\n",
        "epochs = 10\n",
        "\n",
        "train_history_loss = []\n",
        "test_history_loss = []\n",
        "test_history_acc= []\n",
        "test_history_f1 = []\n",
        "\n",
        "for epoch in range(epochs):\n",
        "    train_loss = 0.0\n",
        "    test_loss = 0.0\n",
        "    test_acc = 0.0\n",
        "    test_f1 = 0.0\n",
        "\n",
        "    for data in train_loader:\n",
        "\n",
        "      inputs, labels = data[0].to(device), data[1].to(device)\n",
        "      optimizer.zero_grad()\n",
        "      outputs = model(inputs)\n",
        "      labels = labels[..., None].float()\n",
        "      loss = criterion(outputs, labels)\n",
        "      loss.backward()\n",
        "      optimizer.step()\n",
        "      train_loss += loss.item()\n",
        "\n",
        "    for data in test_loader:\n",
        "      inputs, labels = data[0].to(device), data[1].to(device)\n",
        "      outputs = model(inputs)\n",
        "      labels = labels[..., None].float()\n",
        "      loss = criterion(outputs, labels)\n",
        "      test_loss += loss.item()\n",
        "\n",
        "      response = (outputs > threshold).detach().cpu().numpy().astype(int)\n",
        "      labels = labels.detach().cpu().numpy().astype(int)\n",
        "\n",
        "      test_acc += (response == labels).sum() / len(labels)\n",
        "      test_f1 += f1_score(labels, response, zero_division=0.0)\n",
        "\n",
        "    print(f'Epoch: {epoch + 1}; '\\\n",
        "            f'Train_loss: {round(train_loss / len(train_loader), 3)}; '\\\n",
        "            f'Test_loss: {round(test_loss / len(test_loader), 3)}; '\\\n",
        "            f'Test_acc: {round(test_acc / len(test_loader), 3)}; '\\\n",
        "            f'Test_f1: {round(test_f1 / len(test_loader), 3)}')\n",
        "    \n",
        "    train_history_loss.append(train_loss / len(train_loader))\n",
        "    test_history_loss.append(test_loss / len(test_loader))\n",
        "    test_history_acc.append(test_acc / len(test_loader))\n",
        "    test_history_f1.append(test_f1 / len(test_loader))"
      ],
      "metadata": {
        "colab": {
          "base_uri": "https://localhost:8080/"
        },
        "id": "O92zexAMSqOA",
        "outputId": "0b423335-3186-422e-d289-95208705770d"
      },
      "execution_count": 111,
      "outputs": [
        {
          "output_type": "stream",
          "name": "stdout",
          "text": [
            "Epoch: 1; Train_loss: 0.871; Test_loss: 0.858; Test_acc: 0.822; Test_f1: 0.308\n",
            "Epoch: 2; Train_loss: 0.466; Test_loss: 0.888; Test_acc: 0.853; Test_f1: 0.313\n",
            "Epoch: 3; Train_loss: 0.334; Test_loss: 1.516; Test_acc: 0.899; Test_f1: 0.288\n",
            "Epoch: 4; Train_loss: 0.241; Test_loss: 1.526; Test_acc: 0.885; Test_f1: 0.3\n",
            "Epoch: 5; Train_loss: 0.21; Test_loss: 1.923; Test_acc: 0.922; Test_f1: 0.279\n",
            "Epoch: 6; Train_loss: 0.178; Test_loss: 2.431; Test_acc: 0.899; Test_f1: 0.3\n",
            "Epoch: 7; Train_loss: 0.172; Test_loss: 2.266; Test_acc: 0.917; Test_f1: 0.29\n",
            "Epoch: 8; Train_loss: 0.157; Test_loss: 2.36; Test_acc: 0.922; Test_f1: 0.267\n",
            "Epoch: 9; Train_loss: 0.139; Test_loss: 3.107; Test_acc: 0.939; Test_f1: 0.259\n",
            "Epoch: 10; Train_loss: 0.099; Test_loss: 2.668; Test_acc: 0.921; Test_f1: 0.277\n"
          ]
        }
      ]
    },
    {
      "cell_type": "code",
      "source": [
        "plt.figure(figsize = (10,5))\n",
        "\n",
        "plt.title('Loss', fontsize = 20)\n",
        "plt.grid(True)\n",
        "plt.ylabel('Loss', fontsize = 15)\n",
        "plt.xlabel('Epoch', fontsize = 15)\n",
        "plt.plot(range(1, epochs+1), train_history_loss, label='train')\n",
        "plt.plot(range(1, epochs+1), test_history_loss, label='test')\n",
        "plt.legend(fontsize = 15);"
      ],
      "metadata": {
        "colab": {
          "base_uri": "https://localhost:8080/",
          "height": 360
        },
        "id": "3sY4ORs_Rjuk",
        "outputId": "0d3958ef-6884-4e13-a917-c34d33d26fde"
      },
      "execution_count": 132,
      "outputs": [
        {
          "output_type": "display_data",
          "data": {
            "text/plain": [
              "<Figure size 720x360 with 1 Axes>"
            ],
            "image/png": "[encoded data removed]"
          },
          "metadata": {
            "needs_background": "light"
          }
        }
      ]
    },
    {
      "cell_type": "code",
      "source": [
        "plt.figure(figsize = (10,5))\n",
        "\n",
        "plt.title('Test metrics', fontsize = 20)\n",
        "plt.grid(True)\n",
        "plt.ylabel('Value', fontsize = 15)\n",
        "plt.xlabel('Epoch', fontsize = 15)\n",
        "plt.plot(range(1, epochs+1), test_history_acc, label='accuracy')\n",
        "plt.plot(range(1, epochs+1), test_history_f1, label='f1_score')\n",
        "plt.legend(fontsize = 15);"
      ],
      "metadata": {
        "colab": {
          "base_uri": "https://localhost:8080/",
          "height": 360
        },
        "id": "IRzZmR-Bsezs",
        "outputId": "d6cb6cd9-2b78-434a-fb48-b61f1644448c"
      },
      "execution_count": 133,
      "outputs": [
        {
          "output_type": "display_data",
          "data": {
            "text/plain": [
              "<Figure size 720x360 with 1 Axes>"
            ],
            "image/png": "[encoded data removed]"
          },
          "metadata": {
            "needs_background": "light"
          }
        }
      ]
    },
    {
      "cell_type": "markdown",
      "source": [
        "## 2. Опишите, какой результат вы получили? Что помогло вам улучшить ее точность?"
      ],
      "metadata": {
        "id": "t-s2HmINzGtU"
      }
    },
    {
      "cell_type": "markdown",
      "source": [
        "Я получил довольно слабый результат - максимум 0.3 f1_score на тесте. Как бы я не менял модель, она не может уловить контекст, а ориентируется только на конекретные слова и связки слов. Train loss сходится к 0 красиво, это означает, что модель обучается правильно. Но test loss постоянно растёт, что означает, что модель не может уловить сути, обощить выводы, а затачивается под конкретные связки слов в train.\n",
        "\n",
        "Хоть accuracy большой и растёт, но в наших данных сильный дизбаланс, поэтому эта метрика необьективна. В отличии от f1_score, на который не влияет дизбаланс классов, а так же эта метрика более чётко отражает способность модели к классификации.\n",
        "\n",
        "Сильно улучшилась метрика, когда расширил размер словаря с 2000 до 10000, слова которые встречались от 17 до 2 раз заметно помогают модели.\n",
        "\n",
        "Немного улучишась метрика при добавлении BatchNorm и dropout, test_loss не так быстро растёт.\n",
        "\n",
        "Почти никак не влияет на метрику оставление/удаление (not, nor, no), мы ошиблись, предположив, что это имеет смысл в нашей задаче. Так как на уроке была задача определения эмоциональной окраски и там это имело смысл. А здесь задача нахождения hate speech и здесь это не важно, а важны ключевые слова и связки, а так же контекст, который модели явно не удалось научиться различать."
      ],
      "metadata": {
        "id": "G3NTIN5izXIX"
      }
    }
  ]
}
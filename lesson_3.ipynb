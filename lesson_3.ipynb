{
  "nbformat": 4,
  "nbformat_minor": 0,
  "metadata": {
    "colab": {
      "name": "lesson_3.ipynb",
      "provenance": [],
      "collapsed_sections": [],
      "authorship_tag": "ABX9TyN+5RvBbDTFfhg5uOhPm4sW",
      "include_colab_link": true
    },
    "kernelspec": {
      "name": "python3",
      "display_name": "Python 3"
    },
    "language_info": {
      "name": "python"
    }
  },
  "cells": [
    {
      "cell_type": "markdown",
      "metadata": {
        "id": "view-in-github",
        "colab_type": "text"
      },
      "source": [
        "<a href=\"https://colab.research.google.com/github/FKz11/NN_PyTorch/blob/main/lesson_3.ipynb\" target=\"_parent\"><img src=\"https://colab.research.google.com/assets/colab-badge.svg\" alt=\"Open In Colab\"/></a>"
      ]
    },
    {
      "cell_type": "markdown",
      "source": [
        "# lesson-3"
      ],
      "metadata": {
        "id": "K6O6t_AkSh73"
      }
    },
    {
      "cell_type": "markdown",
      "source": [
        "### Библиотеки:"
      ],
      "metadata": {
        "id": "wTuxanDhTcfK"
      }
    },
    {
      "cell_type": "code",
      "source": [
        "from sklearn.datasets import fetch_california_housing\n",
        "from sklearn.model_selection import train_test_split\n",
        "from sklearn.preprocessing import StandardScaler\n",
        "\n",
        "import torch\n",
        "from torch import nn\n",
        "from torch import optim\n",
        "import torch.nn.functional as F\n",
        "import pandas as pd\n",
        "import numpy as np\n",
        "\n",
        "import matplotlib.pyplot as plt"
      ],
      "metadata": {
        "id": "VfLXmd1TTcvm"
      },
      "execution_count": null,
      "outputs": []
    },
    {
      "cell_type": "markdown",
      "source": [
        "## 1. Создать Dataset для загрузки данных"
      ],
      "metadata": {
        "id": "sB3gHW0vSrsv"
      }
    },
    {
      "cell_type": "markdown",
      "source": [
        "### Загрузка данных"
      ],
      "metadata": {
        "id": "tu8X9XhwTh_8"
      }
    },
    {
      "cell_type": "code",
      "execution_count": null,
      "metadata": {
        "id": "kPBehMG1She9"
      },
      "outputs": [],
      "source": [
        "data = fetch_california_housing()"
      ]
    },
    {
      "cell_type": "code",
      "source": [
        "X_train, X_test, y_train, y_test = train_test_split(data.data, data.target[..., np.newaxis], test_size=0.25, shuffle=True, random_state=13)"
      ],
      "metadata": {
        "id": "p4LgiMUna5Q4"
      },
      "execution_count": null,
      "outputs": []
    },
    {
      "cell_type": "code",
      "source": [
        "pd_train_data = pd.DataFrame(data=np.concatenate([X_train, y_train], axis=1), columns= data.feature_names + [\"target\"])\n",
        "pd_train_data.head(5)"
      ],
      "metadata": {
        "colab": {
          "base_uri": "https://localhost:8080/",
          "height": 206
        },
        "id": "--b2FyeIXJBZ",
        "outputId": "92f44748-241f-44f2-e7df-4ba5f1ea5247"
      },
      "execution_count": null,
      "outputs": [
        {
          "output_type": "execute_result",
          "data": {
            "text/plain": [
              "   MedInc  HouseAge   AveRooms  AveBedrms  Population  AveOccup  Latitude  \\\n",
              "0  3.5174      36.0   4.547945   1.094368      1357.0  2.065449     34.21   \n",
              "1  2.9728      36.0   4.299465   0.997326      1217.0  3.254011     34.18   \n",
              "2  1.6944      11.0  21.372093   4.627907        69.0  1.604651     40.19   \n",
              "3  3.7143      49.0   6.201087   1.298913       505.0  2.744565     38.53   \n",
              "4  2.9219      17.0   6.113960   1.128205       862.0  2.455840     38.73   \n",
              "\n",
              "   Longitude  target  \n",
              "0    -118.23   2.680  \n",
              "1    -118.37   1.902  \n",
              "2    -121.08   1.375  \n",
              "3    -122.94   1.488  \n",
              "4    -120.71   1.413  "
            ],
            "text/html": [
              "\n",
              "  <div id=\"df-9ee6cff5-bd4c-4f35-9eac-828fad5aa05f\">\n",
              "    <div class=\"colab-df-container\">\n",
              "      <div>\n",
              "<style scoped>\n",
              "    .dataframe tbody tr th:only-of-type {\n",
              "        vertical-align: middle;\n",
              "    }\n",
              "\n",
              "    .dataframe tbody tr th {\n",
              "        vertical-align: top;\n",
              "    }\n",
              "\n",
              "    .dataframe thead th {\n",
              "        text-align: right;\n",
              "    }\n",
              "</style>\n",
              "<table border=\"1\" class=\"dataframe\">\n",
              "  <thead>\n",
              "    <tr style=\"text-align: right;\">\n",
              "      <th></th>\n",
              "      <th>MedInc</th>\n",
              "      <th>HouseAge</th>\n",
              "      <th>AveRooms</th>\n",
              "      <th>AveBedrms</th>\n",
              "      <th>Population</th>\n",
              "      <th>AveOccup</th>\n",
              "      <th>Latitude</th>\n",
              "      <th>Longitude</th>\n",
              "      <th>target</th>\n",
              "    </tr>\n",
              "  </thead>\n",
              "  <tbody>\n",
              "    <tr>\n",
              "      <th>0</th>\n",
              "      <td>3.5174</td>\n",
              "      <td>36.0</td>\n",
              "      <td>4.547945</td>\n",
              "      <td>1.094368</td>\n",
              "      <td>1357.0</td>\n",
              "      <td>2.065449</td>\n",
              "      <td>34.21</td>\n",
              "      <td>-118.23</td>\n",
              "      <td>2.680</td>\n",
              "    </tr>\n",
              "    <tr>\n",
              "      <th>1</th>\n",
              "      <td>2.9728</td>\n",
              "      <td>36.0</td>\n",
              "      <td>4.299465</td>\n",
              "      <td>0.997326</td>\n",
              "      <td>1217.0</td>\n",
              "      <td>3.254011</td>\n",
              "      <td>34.18</td>\n",
              "      <td>-118.37</td>\n",
              "      <td>1.902</td>\n",
              "    </tr>\n",
              "    <tr>\n",
              "      <th>2</th>\n",
              "      <td>1.6944</td>\n",
              "      <td>11.0</td>\n",
              "      <td>21.372093</td>\n",
              "      <td>4.627907</td>\n",
              "      <td>69.0</td>\n",
              "      <td>1.604651</td>\n",
              "      <td>40.19</td>\n",
              "      <td>-121.08</td>\n",
              "      <td>1.375</td>\n",
              "    </tr>\n",
              "    <tr>\n",
              "      <th>3</th>\n",
              "      <td>3.7143</td>\n",
              "      <td>49.0</td>\n",
              "      <td>6.201087</td>\n",
              "      <td>1.298913</td>\n",
              "      <td>505.0</td>\n",
              "      <td>2.744565</td>\n",
              "      <td>38.53</td>\n",
              "      <td>-122.94</td>\n",
              "      <td>1.488</td>\n",
              "    </tr>\n",
              "    <tr>\n",
              "      <th>4</th>\n",
              "      <td>2.9219</td>\n",
              "      <td>17.0</td>\n",
              "      <td>6.113960</td>\n",
              "      <td>1.128205</td>\n",
              "      <td>862.0</td>\n",
              "      <td>2.455840</td>\n",
              "      <td>38.73</td>\n",
              "      <td>-120.71</td>\n",
              "      <td>1.413</td>\n",
              "    </tr>\n",
              "  </tbody>\n",
              "</table>\n",
              "</div>\n",
              "      <button class=\"colab-df-convert\" onclick=\"convertToInteractive('df-9ee6cff5-bd4c-4f35-9eac-828fad5aa05f')\"\n",
              "              title=\"Convert this dataframe to an interactive table.\"\n",
              "              style=\"display:none;\">\n",
              "        \n",
              "  <svg xmlns=\"http://www.w3.org/2000/svg\" height=\"24px\"viewBox=\"0 0 24 24\"\n",
              "       width=\"24px\">\n",
              "    <path d=\"M0 0h24v24H0V0z\" fill=\"none\"/>\n",
              "    <path d=\"M18.56 5.44l.94 2.06.94-2.06 2.06-.94-2.06-.94-.94-2.06-.94 2.06-2.06.94zm-11 1L8.5 8.5l.94-2.06 2.06-.94-2.06-.94L8.5 2.5l-.94 2.06-2.06.94zm10 10l.94 2.06.94-2.06 2.06-.94-2.06-.94-.94-2.06-.94 2.06-2.06.94z\"/><path d=\"M17.41 7.96l-1.37-1.37c-.4-.4-.92-.59-1.43-.59-.52 0-1.04.2-1.43.59L10.3 9.45l-7.72 7.72c-.78.78-.78 2.05 0 2.83L4 21.41c.39.39.9.59 1.41.59.51 0 1.02-.2 1.41-.59l7.78-7.78 2.81-2.81c.8-.78.8-2.07 0-2.86zM5.41 20L4 18.59l7.72-7.72 1.47 1.35L5.41 20z\"/>\n",
              "  </svg>\n",
              "      </button>\n",
              "      \n",
              "  <style>\n",
              "    .colab-df-container {\n",
              "      display:flex;\n",
              "      flex-wrap:wrap;\n",
              "      gap: 12px;\n",
              "    }\n",
              "\n",
              "    .colab-df-convert {\n",
              "      background-color: #E8F0FE;\n",
              "      border: none;\n",
              "      border-radius: 50%;\n",
              "      cursor: pointer;\n",
              "      display: none;\n",
              "      fill: #1967D2;\n",
              "      height: 32px;\n",
              "      padding: 0 0 0 0;\n",
              "      width: 32px;\n",
              "    }\n",
              "\n",
              "    .colab-df-convert:hover {\n",
              "      background-color: #E2EBFA;\n",
              "      box-shadow: 0px 1px 2px rgba(60, 64, 67, 0.3), 0px 1px 3px 1px rgba(60, 64, 67, 0.15);\n",
              "      fill: #174EA6;\n",
              "    }\n",
              "\n",
              "    [theme=dark] .colab-df-convert {\n",
              "      background-color: #3B4455;\n",
              "      fill: #D2E3FC;\n",
              "    }\n",
              "\n",
              "    [theme=dark] .colab-df-convert:hover {\n",
              "      background-color: #434B5C;\n",
              "      box-shadow: 0px 1px 3px 1px rgba(0, 0, 0, 0.15);\n",
              "      filter: drop-shadow(0px 1px 2px rgba(0, 0, 0, 0.3));\n",
              "      fill: #FFFFFF;\n",
              "    }\n",
              "  </style>\n",
              "\n",
              "      <script>\n",
              "        const buttonEl =\n",
              "          document.querySelector('#df-9ee6cff5-bd4c-4f35-9eac-828fad5aa05f button.colab-df-convert');\n",
              "        buttonEl.style.display =\n",
              "          google.colab.kernel.accessAllowed ? 'block' : 'none';\n",
              "\n",
              "        async function convertToInteractive(key) {\n",
              "          const element = document.querySelector('#df-9ee6cff5-bd4c-4f35-9eac-828fad5aa05f');\n",
              "          const dataTable =\n",
              "            await google.colab.kernel.invokeFunction('convertToInteractive',\n",
              "                                                     [key], {});\n",
              "          if (!dataTable) return;\n",
              "\n",
              "          const docLinkHtml = 'Like what you see? Visit the ' +\n",
              "            '<a target=\"_blank\" href=https://colab.research.google.com/notebooks/data_table.ipynb>data table notebook</a>'\n",
              "            + ' to learn more about interactive tables.';\n",
              "          element.innerHTML = '';\n",
              "          dataTable['output_type'] = 'display_data';\n",
              "          await google.colab.output.renderOutput(dataTable, element);\n",
              "          const docLink = document.createElement('div');\n",
              "          docLink.innerHTML = docLinkHtml;\n",
              "          element.appendChild(docLink);\n",
              "        }\n",
              "      </script>\n",
              "    </div>\n",
              "  </div>\n",
              "  "
            ]
          },
          "metadata": {},
          "execution_count": 4
        }
      ]
    },
    {
      "cell_type": "markdown",
      "source": [
        "### EDA"
      ],
      "metadata": {
        "id": "VreNArj-U-pt"
      }
    },
    {
      "cell_type": "code",
      "source": [
        "pd_train_data.dtypes"
      ],
      "metadata": {
        "colab": {
          "base_uri": "https://localhost:8080/"
        },
        "id": "o3beg_tEVDNJ",
        "outputId": "8bca224b-ffa2-474b-ce42-e948e5646e57"
      },
      "execution_count": null,
      "outputs": [
        {
          "output_type": "execute_result",
          "data": {
            "text/plain": [
              "MedInc        float64\n",
              "HouseAge      float64\n",
              "AveRooms      float64\n",
              "AveBedrms     float64\n",
              "Population    float64\n",
              "AveOccup      float64\n",
              "Latitude      float64\n",
              "Longitude     float64\n",
              "target        float64\n",
              "dtype: object"
            ]
          },
          "metadata": {},
          "execution_count": 5
        }
      ]
    },
    {
      "cell_type": "code",
      "source": [
        "pd_train_data.describe()"
      ],
      "metadata": {
        "colab": {
          "base_uri": "https://localhost:8080/",
          "height": 300
        },
        "id": "GdU3X-7YVJ4b",
        "outputId": "47c69473-d449-49d4-c1ff-fdc57eef3d12"
      },
      "execution_count": null,
      "outputs": [
        {
          "output_type": "execute_result",
          "data": {
            "text/plain": [
              "             MedInc      HouseAge      AveRooms     AveBedrms    Population  \\\n",
              "count  15480.000000  15480.000000  15480.000000  15480.000000  15480.000000   \n",
              "mean       3.861963     28.720284      5.425442      1.096577   1432.229651   \n",
              "std        1.898655     12.570347      2.580798      0.494873   1150.630989   \n",
              "min        0.499900      1.000000      1.130435      0.333333      5.000000   \n",
              "25%        2.556200     18.000000      4.441059      1.006483    793.000000   \n",
              "50%        3.523400     29.000000      5.226318      1.048338   1170.500000   \n",
              "75%        4.740400     37.000000      6.046826      1.099367   1735.000000   \n",
              "max       15.000100     52.000000    141.909091     34.066667  35682.000000   \n",
              "\n",
              "           AveOccup      Latitude     Longitude        target  \n",
              "count  15480.000000  15480.000000  15480.000000  15480.000000  \n",
              "mean       3.107501     35.652980   -119.588727      2.066570  \n",
              "std       11.962527      2.148121      2.011185      1.151101  \n",
              "min        0.692308     32.540000   -124.350000      0.149990  \n",
              "25%        2.430375     33.930000   -121.820000      1.198000  \n",
              "50%        2.820179     34.260000   -118.510000      1.799500  \n",
              "75%        3.279889     37.730000   -118.010000      2.649000  \n",
              "max     1243.333333     41.950000   -114.310000      5.000010  "
            ],
            "text/html": [
              "\n",
              "  <div id=\"df-0beb3f7e-37bd-48ea-8a1a-d8b15b369649\">\n",
              "    <div class=\"colab-df-container\">\n",
              "      <div>\n",
              "<style scoped>\n",
              "    .dataframe tbody tr th:only-of-type {\n",
              "        vertical-align: middle;\n",
              "    }\n",
              "\n",
              "    .dataframe tbody tr th {\n",
              "        vertical-align: top;\n",
              "    }\n",
              "\n",
              "    .dataframe thead th {\n",
              "        text-align: right;\n",
              "    }\n",
              "</style>\n",
              "<table border=\"1\" class=\"dataframe\">\n",
              "  <thead>\n",
              "    <tr style=\"text-align: right;\">\n",
              "      <th></th>\n",
              "      <th>MedInc</th>\n",
              "      <th>HouseAge</th>\n",
              "      <th>AveRooms</th>\n",
              "      <th>AveBedrms</th>\n",
              "      <th>Population</th>\n",
              "      <th>AveOccup</th>\n",
              "      <th>Latitude</th>\n",
              "      <th>Longitude</th>\n",
              "      <th>target</th>\n",
              "    </tr>\n",
              "  </thead>\n",
              "  <tbody>\n",
              "    <tr>\n",
              "      <th>count</th>\n",
              "      <td>15480.000000</td>\n",
              "      <td>15480.000000</td>\n",
              "      <td>15480.000000</td>\n",
              "      <td>15480.000000</td>\n",
              "      <td>15480.000000</td>\n",
              "      <td>15480.000000</td>\n",
              "      <td>15480.000000</td>\n",
              "      <td>15480.000000</td>\n",
              "      <td>15480.000000</td>\n",
              "    </tr>\n",
              "    <tr>\n",
              "      <th>mean</th>\n",
              "      <td>3.861963</td>\n",
              "      <td>28.720284</td>\n",
              "      <td>5.425442</td>\n",
              "      <td>1.096577</td>\n",
              "      <td>1432.229651</td>\n",
              "      <td>3.107501</td>\n",
              "      <td>35.652980</td>\n",
              "      <td>-119.588727</td>\n",
              "      <td>2.066570</td>\n",
              "    </tr>\n",
              "    <tr>\n",
              "      <th>std</th>\n",
              "      <td>1.898655</td>\n",
              "      <td>12.570347</td>\n",
              "      <td>2.580798</td>\n",
              "      <td>0.494873</td>\n",
              "      <td>1150.630989</td>\n",
              "      <td>11.962527</td>\n",
              "      <td>2.148121</td>\n",
              "      <td>2.011185</td>\n",
              "      <td>1.151101</td>\n",
              "    </tr>\n",
              "    <tr>\n",
              "      <th>min</th>\n",
              "      <td>0.499900</td>\n",
              "      <td>1.000000</td>\n",
              "      <td>1.130435</td>\n",
              "      <td>0.333333</td>\n",
              "      <td>5.000000</td>\n",
              "      <td>0.692308</td>\n",
              "      <td>32.540000</td>\n",
              "      <td>-124.350000</td>\n",
              "      <td>0.149990</td>\n",
              "    </tr>\n",
              "    <tr>\n",
              "      <th>25%</th>\n",
              "      <td>2.556200</td>\n",
              "      <td>18.000000</td>\n",
              "      <td>4.441059</td>\n",
              "      <td>1.006483</td>\n",
              "      <td>793.000000</td>\n",
              "      <td>2.430375</td>\n",
              "      <td>33.930000</td>\n",
              "      <td>-121.820000</td>\n",
              "      <td>1.198000</td>\n",
              "    </tr>\n",
              "    <tr>\n",
              "      <th>50%</th>\n",
              "      <td>3.523400</td>\n",
              "      <td>29.000000</td>\n",
              "      <td>5.226318</td>\n",
              "      <td>1.048338</td>\n",
              "      <td>1170.500000</td>\n",
              "      <td>2.820179</td>\n",
              "      <td>34.260000</td>\n",
              "      <td>-118.510000</td>\n",
              "      <td>1.799500</td>\n",
              "    </tr>\n",
              "    <tr>\n",
              "      <th>75%</th>\n",
              "      <td>4.740400</td>\n",
              "      <td>37.000000</td>\n",
              "      <td>6.046826</td>\n",
              "      <td>1.099367</td>\n",
              "      <td>1735.000000</td>\n",
              "      <td>3.279889</td>\n",
              "      <td>37.730000</td>\n",
              "      <td>-118.010000</td>\n",
              "      <td>2.649000</td>\n",
              "    </tr>\n",
              "    <tr>\n",
              "      <th>max</th>\n",
              "      <td>15.000100</td>\n",
              "      <td>52.000000</td>\n",
              "      <td>141.909091</td>\n",
              "      <td>34.066667</td>\n",
              "      <td>35682.000000</td>\n",
              "      <td>1243.333333</td>\n",
              "      <td>41.950000</td>\n",
              "      <td>-114.310000</td>\n",
              "      <td>5.000010</td>\n",
              "    </tr>\n",
              "  </tbody>\n",
              "</table>\n",
              "</div>\n",
              "      <button class=\"colab-df-convert\" onclick=\"convertToInteractive('df-0beb3f7e-37bd-48ea-8a1a-d8b15b369649')\"\n",
              "              title=\"Convert this dataframe to an interactive table.\"\n",
              "              style=\"display:none;\">\n",
              "        \n",
              "  <svg xmlns=\"http://www.w3.org/2000/svg\" height=\"24px\"viewBox=\"0 0 24 24\"\n",
              "       width=\"24px\">\n",
              "    <path d=\"M0 0h24v24H0V0z\" fill=\"none\"/>\n",
              "    <path d=\"M18.56 5.44l.94 2.06.94-2.06 2.06-.94-2.06-.94-.94-2.06-.94 2.06-2.06.94zm-11 1L8.5 8.5l.94-2.06 2.06-.94-2.06-.94L8.5 2.5l-.94 2.06-2.06.94zm10 10l.94 2.06.94-2.06 2.06-.94-2.06-.94-.94-2.06-.94 2.06-2.06.94z\"/><path d=\"M17.41 7.96l-1.37-1.37c-.4-.4-.92-.59-1.43-.59-.52 0-1.04.2-1.43.59L10.3 9.45l-7.72 7.72c-.78.78-.78 2.05 0 2.83L4 21.41c.39.39.9.59 1.41.59.51 0 1.02-.2 1.41-.59l7.78-7.78 2.81-2.81c.8-.78.8-2.07 0-2.86zM5.41 20L4 18.59l7.72-7.72 1.47 1.35L5.41 20z\"/>\n",
              "  </svg>\n",
              "      </button>\n",
              "      \n",
              "  <style>\n",
              "    .colab-df-container {\n",
              "      display:flex;\n",
              "      flex-wrap:wrap;\n",
              "      gap: 12px;\n",
              "    }\n",
              "\n",
              "    .colab-df-convert {\n",
              "      background-color: #E8F0FE;\n",
              "      border: none;\n",
              "      border-radius: 50%;\n",
              "      cursor: pointer;\n",
              "      display: none;\n",
              "      fill: #1967D2;\n",
              "      height: 32px;\n",
              "      padding: 0 0 0 0;\n",
              "      width: 32px;\n",
              "    }\n",
              "\n",
              "    .colab-df-convert:hover {\n",
              "      background-color: #E2EBFA;\n",
              "      box-shadow: 0px 1px 2px rgba(60, 64, 67, 0.3), 0px 1px 3px 1px rgba(60, 64, 67, 0.15);\n",
              "      fill: #174EA6;\n",
              "    }\n",
              "\n",
              "    [theme=dark] .colab-df-convert {\n",
              "      background-color: #3B4455;\n",
              "      fill: #D2E3FC;\n",
              "    }\n",
              "\n",
              "    [theme=dark] .colab-df-convert:hover {\n",
              "      background-color: #434B5C;\n",
              "      box-shadow: 0px 1px 3px 1px rgba(0, 0, 0, 0.15);\n",
              "      filter: drop-shadow(0px 1px 2px rgba(0, 0, 0, 0.3));\n",
              "      fill: #FFFFFF;\n",
              "    }\n",
              "  </style>\n",
              "\n",
              "      <script>\n",
              "        const buttonEl =\n",
              "          document.querySelector('#df-0beb3f7e-37bd-48ea-8a1a-d8b15b369649 button.colab-df-convert');\n",
              "        buttonEl.style.display =\n",
              "          google.colab.kernel.accessAllowed ? 'block' : 'none';\n",
              "\n",
              "        async function convertToInteractive(key) {\n",
              "          const element = document.querySelector('#df-0beb3f7e-37bd-48ea-8a1a-d8b15b369649');\n",
              "          const dataTable =\n",
              "            await google.colab.kernel.invokeFunction('convertToInteractive',\n",
              "                                                     [key], {});\n",
              "          if (!dataTable) return;\n",
              "\n",
              "          const docLinkHtml = 'Like what you see? Visit the ' +\n",
              "            '<a target=\"_blank\" href=https://colab.research.google.com/notebooks/data_table.ipynb>data table notebook</a>'\n",
              "            + ' to learn more about interactive tables.';\n",
              "          element.innerHTML = '';\n",
              "          dataTable['output_type'] = 'display_data';\n",
              "          await google.colab.output.renderOutput(dataTable, element);\n",
              "          const docLink = document.createElement('div');\n",
              "          docLink.innerHTML = docLinkHtml;\n",
              "          element.appendChild(docLink);\n",
              "        }\n",
              "      </script>\n",
              "    </div>\n",
              "  </div>\n",
              "  "
            ]
          },
          "metadata": {},
          "execution_count": 6
        }
      ]
    },
    {
      "cell_type": "markdown",
      "source": [
        "### Dataset для данных"
      ],
      "metadata": {
        "id": "IiJf_0aqUmld"
      }
    },
    {
      "cell_type": "code",
      "source": [
        "class DatasetHous(torch.utils.data.Dataset):\n",
        "   \n",
        "    X_scaler = None\n",
        "    y_scaler = None\n",
        "\n",
        "    def __init__(self, data, labels, train=True):\n",
        "        self.data, self.labels = self.scaler(data, labels, train)\n",
        "\n",
        "    @classmethod\n",
        "    def scaler(cls, data, labels, train=True):\n",
        "      if train:\n",
        "          cls.X_scaler = StandardScaler()\n",
        "          cls.X_scaler.fit(data)\n",
        "          cls.y_scaler = StandardScaler()\n",
        "          cls.y_scaler.fit(labels)\n",
        "          labels = cls.y_scaler.transform(labels)\n",
        "\n",
        "      return cls.X_scaler.transform(data), labels\n",
        "\n",
        "    def __len__(self):\n",
        "        return len(self.data)\n",
        "\n",
        "    def __getitem__(self, idx):\n",
        "        return self.data[idx], self.labels[idx]"
      ],
      "metadata": {
        "id": "FGJr-rztUgIa"
      },
      "execution_count": null,
      "outputs": []
    },
    {
      "cell_type": "code",
      "source": [
        "train_dataset = DatasetHous(X_train, y_train, train=True)\n",
        "test_dataset = DatasetHous(X_test, y_test, train=False)\n",
        "train_dataset[0]"
      ],
      "metadata": {
        "colab": {
          "base_uri": "https://localhost:8080/"
        },
        "id": "K5yw1rtZZX9j",
        "outputId": "e68d5c57-002f-4eed-c09c-74af3d0359c4"
      },
      "execution_count": null,
      "outputs": [
        {
          "output_type": "execute_result",
          "data": {
            "text/plain": [
              "(array([-0.18148348,  0.57913684, -0.34002073, -0.00446324, -0.06538333,\n",
              "        -0.08711252, -0.67176218,  0.67560682]), array([0.53292426]))"
            ]
          },
          "metadata": {},
          "execution_count": 8
        }
      ]
    },
    {
      "cell_type": "markdown",
      "source": [
        "## 2. Обернуть его в Dataloader"
      ],
      "metadata": {
        "id": "_gu5UOdcHeC-"
      }
    },
    {
      "cell_type": "code",
      "source": [
        "train_loader = torch.utils.data.DataLoader(train_dataset,\n",
        "                          batch_size=128,\n",
        "                          shuffle=True,\n",
        "                          num_workers=2)\n",
        "test_loader = torch.utils.data.DataLoader(test_dataset,\n",
        "                          batch_size=8,\n",
        "                          shuffle=False)\n",
        "iter(test_loader).next()"
      ],
      "metadata": {
        "id": "3XGK-EkZRVLW",
        "colab": {
          "base_uri": "https://localhost:8080/"
        },
        "outputId": "74e5dd64-f8c4-43a7-e36c-c3262fcf4046"
      },
      "execution_count": null,
      "outputs": [
        {
          "output_type": "execute_result",
          "data": {
            "text/plain": [
              "[tensor([[ 0.1532, -1.0915,  0.2975, -0.2206, -0.5773,  0.0100, -0.1457,  0.2530],\n",
              "         [-0.3355, -0.6142, -0.3528, -0.0412, -0.3661, -0.1027, -1.3282,  1.1728],\n",
              "         [-0.4467, -0.8529,  0.4043,  0.5666, -0.1575, -0.0555, -0.7043,  1.7099],\n",
              "         [-1.3652, -0.0573, -0.2916,  0.0725, -0.4374, -0.0499,  2.6801, -1.3829],\n",
              "         [ 0.4270, -1.8075,  0.1181, -0.1278, -0.4026, -0.0143,  0.5386, -0.1399],\n",
              "         [ 0.8725, -0.2960,  0.2344, -0.1602,  0.2058,  0.0422, -0.5647, -0.1498],\n",
              "         [ 0.4053, -1.0120,  0.3647, -0.0360,  0.7594, -0.0489, -0.8068,  0.8894],\n",
              "         [-0.1982, -0.0573, -0.3575, -0.1078,  0.6647,  0.1011, -0.8347,  0.8546]],\n",
              "        dtype=torch.float64), tensor([[1.3010],\n",
              "         [2.2940],\n",
              "         [0.8260],\n",
              "         [0.5310],\n",
              "         [1.0780],\n",
              "         [2.6830],\n",
              "         [2.7750],\n",
              "         [1.4280]], dtype=torch.float64)]"
            ]
          },
          "metadata": {},
          "execution_count": 9
        }
      ]
    },
    {
      "cell_type": "markdown",
      "source": [
        "## 3. Написать архитектуру сети, которая предсказывает стоимость недвижимости. Сеть должна включать BatchNorm слои и Dropout"
      ],
      "metadata": {
        "id": "7CABSUBFH1hT"
      }
    },
    {
      "cell_type": "markdown",
      "source": [
        "### Net"
      ],
      "metadata": {
        "id": "CQY9YhYxHkPP"
      }
    },
    {
      "cell_type": "code",
      "source": [
        "class Net(nn.Module):\n",
        "    def __init__(self, input_dim, output_dim, hidden_dim, deep, dropout):\n",
        "        super().__init__()\n",
        "        self.fc = nn.ModuleList()\n",
        "        self.bn = nn.ModuleList()\n",
        "\n",
        "        self.fc.append(nn.Linear(input_dim, 2**(deep - 2) * hidden_dim))\n",
        "        self.bn.append(nn.BatchNorm1d(2**(deep - 2) * hidden_dim))\n",
        "        for i in range(1, deep - 1):\n",
        "          self.fc.append(nn.Linear(2**(deep - 1 - i) * hidden_dim, 2**(deep - 2 - i) * hidden_dim))\n",
        "          self.bn.append(nn.BatchNorm1d(2**(deep - 2 - i) * hidden_dim))\n",
        "        self.fc.append(nn.Linear(hidden_dim, output_dim))\n",
        "\n",
        "        self.dp = nn.Dropout(dropout)\n",
        "\n",
        "    def forward(self, x):\n",
        "\n",
        "        for i in range(len(self.bn)):\n",
        "          x = self.fc[i](x)\n",
        "          x = self.bn[i](x)\n",
        "          x = torch.tanh(x)\n",
        "          x = self.dp(x)\n",
        "\n",
        "        x = self.fc[len(self.bn)](x)\n",
        "        return x"
      ],
      "metadata": {
        "id": "wdn4bXOPH8h9"
      },
      "execution_count": null,
      "outputs": []
    },
    {
      "cell_type": "markdown",
      "source": [
        "### Train Net"
      ],
      "metadata": {
        "id": "Izimqt6fHpax"
      }
    },
    {
      "cell_type": "code",
      "source": [
        "def net_train(train_loader, test_loader, num_epochs, hidden_dim, deep, dropout, optimiz, lr, noise):\n",
        "  net = Net(8, 1, hidden_dim, deep, dropout).double()\n",
        "  net.train()\n",
        "\n",
        "  criterion = nn.MSELoss()\n",
        "\n",
        "  if optimiz == 'adam':\n",
        "    optimizer = optim.Adam(net.parameters(), lr=lr)\n",
        "\n",
        "  if optimiz == 'rmsprop':\n",
        "    optimizer = optim.RMSprop(net.parameters(), lr=lr)\n",
        "\n",
        "  if optimiz == 'sgd':\n",
        "    optimizer = optim.SGD(net.parameters(), lr=lr)\n",
        "\n",
        "  train_loss_list = []\n",
        "\n",
        "  for epoch in range(num_epochs):\n",
        "    train_loss = 0.0\n",
        "    test_loss = 0.0\n",
        "    test_mse = 0.0\n",
        "\n",
        "    for data in train_loader:\n",
        "\n",
        "      inputs, labels = data[0], data[1]\n",
        "      # Обнуляем градиент\n",
        "      optimizer.zero_grad()\n",
        "      # Делаем предсказание\n",
        "      outputs = net(inputs)\n",
        "      # Рассчитываем лосс-функцию\n",
        "      loss = criterion(outputs, labels)\n",
        "      # Делаем шаг назад по лоссу\n",
        "      loss.backward()\n",
        "      # Делаем шаг нашего оптимайзера\n",
        "      optimizer.step()\n",
        "      train_loss += loss.item()\n",
        "\n",
        "    # Расчитываем loss на test\n",
        "    for data in test_loader:\n",
        "      inputs, labels = data[0], data[1]\n",
        "      outputs = net(inputs)\n",
        "      loss = criterion(outputs, labels)\n",
        "      test_loss += loss.item()\n",
        "\n",
        "    # Расчитываем mse на test\n",
        "      with torch.no_grad():\n",
        "        outputs = DatasetHous.y_scaler.inverse_transform(outputs)\n",
        "      outputs = torch.from_numpy(outputs)\n",
        "\n",
        "      loss = criterion(outputs, labels)\n",
        "      test_mse += loss.item()\n",
        "\n",
        "    # выводим статистику о процессе обучения\n",
        "    if noise:\n",
        "      print(f'Epoch: {epoch + 1}; '\\\n",
        "            f'Train_loss: {round(train_loss / len(train_loader), 3)}; '\\\n",
        "            f'Test_loss: {round(test_loss / len(test_loader), 3)}; '\\\n",
        "            f'Test_MSE: {round(test_mse / len(test_loader), 3)}')\n",
        "    \n",
        "    train_loss_list.append(train_loss / len(train_loader))\n",
        "  \n",
        "  return net, round(test_mse / len(test_loader), 3), train_loss_list"
      ],
      "metadata": {
        "id": "OHUNgJBwORrI"
      },
      "execution_count": null,
      "outputs": []
    },
    {
      "cell_type": "code",
      "source": [
        "%%time\n",
        "\n",
        "net = net_train(train_loader, test_loader, num_epochs=10, hidden_dim=40, \n",
        "                deep=4, dropout=0.1, optimiz='adam', lr=0.01, noise=True)[0]"
      ],
      "metadata": {
        "colab": {
          "base_uri": "https://localhost:8080/"
        },
        "id": "h9j8w9srjeWx",
        "outputId": "4696f0cc-6ec6-4ad6-c9f8-072f2a271fff"
      },
      "execution_count": null,
      "outputs": [
        {
          "output_type": "stream",
          "name": "stdout",
          "text": [
            "Epoch: 1; Train_loss: 0.381; Test_loss: 5.033; Test_MSE: 0.619\n",
            "Epoch: 2; Train_loss: 0.313; Test_loss: 5.128; Test_MSE: 0.597\n",
            "Epoch: 3; Train_loss: 0.3; Test_loss: 4.883; Test_MSE: 0.587\n",
            "Epoch: 4; Train_loss: 0.282; Test_loss: 4.956; Test_MSE: 0.601\n",
            "Epoch: 5; Train_loss: 0.279; Test_loss: 4.887; Test_MSE: 0.573\n",
            "Epoch: 6; Train_loss: 0.274; Test_loss: 5.093; Test_MSE: 0.565\n",
            "Epoch: 7; Train_loss: 0.268; Test_loss: 4.76; Test_MSE: 0.584\n",
            "Epoch: 8; Train_loss: 0.266; Test_loss: 5.033; Test_MSE: 0.573\n",
            "Epoch: 9; Train_loss: 0.261; Test_loss: 5.144; Test_MSE: 0.589\n",
            "Epoch: 10; Train_loss: 0.257; Test_loss: 4.996; Test_MSE: 0.584\n",
            "CPU times: user 17.9 s, sys: 828 ms, total: 18.7 s\n",
            "Wall time: 29.5 s\n"
          ]
        }
      ]
    },
    {
      "cell_type": "markdown",
      "source": [
        "### hidden_dim"
      ],
      "metadata": {
        "id": "55cZQPPDL4Y5"
      }
    },
    {
      "cell_type": "code",
      "source": [
        "%%time\n",
        "\n",
        "hidden_dim_list = [10, 20, 30, 50, 100]\n",
        "\n",
        "for hidden_dim in hidden_dim_list:\n",
        "  print(hidden_dim, '-', net_train(train_loader, test_loader, num_epochs=10, hidden_dim=hidden_dim, \n",
        "                                   deep=4, dropout=0.1, optimiz='adam', lr=0.01, noise=False)[1])"
      ],
      "metadata": {
        "colab": {
          "base_uri": "https://localhost:8080/"
        },
        "id": "K6gihGepL3jk",
        "outputId": "155fa177-d6b5-4863-f653-70b83a18d0e0"
      },
      "execution_count": null,
      "outputs": [
        {
          "output_type": "stream",
          "name": "stdout",
          "text": [
            "10 - 0.625\n",
            "20 - 0.6\n",
            "30 - 0.573\n",
            "50 - 0.595\n",
            "100 - 0.57\n",
            "CPU times: user 1min 8s, sys: 3.5 s, total: 1min 11s\n",
            "Wall time: 1min 19s\n"
          ]
        }
      ]
    },
    {
      "cell_type": "markdown",
      "source": [
        "### deep"
      ],
      "metadata": {
        "id": "0CS6GG__MVzq"
      }
    },
    {
      "cell_type": "code",
      "source": [
        "%%time\n",
        "\n",
        "deep_list = [2, 3, 4, 5, 6]\n",
        "\n",
        "for deep in deep_list:\n",
        "  print(deep, '-', net_train(train_loader, test_loader, num_epochs=10, hidden_dim=30, \n",
        "                                   deep=deep, dropout=0.1, optimiz='adam', lr=0.01, noise=False)[1])"
      ],
      "metadata": {
        "colab": {
          "base_uri": "https://localhost:8080/"
        },
        "id": "7sedeQ85MX6U",
        "outputId": "d4ef9e48-c3b1-4d5e-c773-634e74d88512"
      },
      "execution_count": null,
      "outputs": [
        {
          "output_type": "stream",
          "name": "stdout",
          "text": [
            "2 - 0.564\n",
            "3 - 0.562\n",
            "4 - 0.61\n",
            "5 - 0.601\n",
            "6 - 0.584\n",
            "CPU times: user 1min 18s, sys: 3.68 s, total: 1min 22s\n",
            "Wall time: 1min 38s\n"
          ]
        }
      ]
    },
    {
      "cell_type": "markdown",
      "source": [
        "### dropout"
      ],
      "metadata": {
        "id": "kByCs0_CMsgN"
      }
    },
    {
      "cell_type": "code",
      "source": [
        "%%time\n",
        "\n",
        "dropout_list = [0.0, 0.1, 0.2, 0.3, 0.5]\n",
        "\n",
        "for dropout in dropout_list:\n",
        "  print(dropout, '-', net_train(train_loader, test_loader, num_epochs=10, hidden_dim=30, \n",
        "                                   deep=3, dropout=dropout, optimiz='adam', lr=0.01, noise=False)[1])"
      ],
      "metadata": {
        "colab": {
          "base_uri": "https://localhost:8080/"
        },
        "id": "p5o1IwJpMuPM",
        "outputId": "634779e2-f357-4d7d-a54a-d90e31c8c97c"
      },
      "execution_count": null,
      "outputs": [
        {
          "output_type": "stream",
          "name": "stdout",
          "text": [
            "0.0 - 0.541\n",
            "0.1 - 0.571\n",
            "0.2 - 0.57\n",
            "0.3 - 0.584\n",
            "0.5 - 0.683\n",
            "CPU times: user 51.8 s, sys: 3.13 s, total: 55 s\n",
            "Wall time: 1min 10s\n"
          ]
        }
      ]
    },
    {
      "cell_type": "markdown",
      "source": [
        "### optimiz"
      ],
      "metadata": {
        "id": "NZe02ov2Nfs0"
      }
    },
    {
      "cell_type": "code",
      "source": [
        "%%time\n",
        "\n",
        "optimiz_list = ['adam', 'rmsprop', 'sgd']\n",
        "\n",
        "for optimiz in optimiz_list:\n",
        "  print(optimiz, '-', net_train(train_loader, test_loader, num_epochs=10, hidden_dim=30, \n",
        "                                   deep=3, dropout=0.0, optimiz=optimiz, lr=0.01, noise=False)[1])"
      ],
      "metadata": {
        "colab": {
          "base_uri": "https://localhost:8080/"
        },
        "id": "EFEwPy2vNj4r",
        "outputId": "b0ec8d0c-33d8-4687-bcd3-3fd539dc6721"
      },
      "execution_count": null,
      "outputs": [
        {
          "output_type": "stream",
          "name": "stdout",
          "text": [
            "adam - 0.547\n",
            "rmsprop - 0.553\n",
            "sgd - 0.589\n",
            "CPU times: user 25.8 s, sys: 1.77 s, total: 27.6 s\n",
            "Wall time: 31.8 s\n"
          ]
        }
      ]
    },
    {
      "cell_type": "markdown",
      "source": [
        "### lr"
      ],
      "metadata": {
        "id": "IFsG00XWOZ3a"
      }
    },
    {
      "cell_type": "code",
      "source": [
        "%%time\n",
        "\n",
        "lr_list = [0.0001, 0.001, 0.01, 0.1, 1]\n",
        "\n",
        "for lr in lr_list:\n",
        "  print(lr, '-', net_train(train_loader, test_loader, num_epochs=10, hidden_dim=30, \n",
        "                                   deep=3, dropout=0.0, optimiz='adam', lr=lr, noise=False)[1])"
      ],
      "metadata": {
        "colab": {
          "base_uri": "https://localhost:8080/"
        },
        "id": "cd-U2Gs1OecV",
        "outputId": "4d34df72-b42a-4bc9-a53f-302359b147c8"
      },
      "execution_count": null,
      "outputs": [
        {
          "output_type": "stream",
          "name": "stdout",
          "text": [
            "0.0001 - 0.621\n",
            "0.001 - 0.562\n",
            "0.01 - 0.563\n",
            "0.1 - 0.583\n",
            "1 - 0.734\n",
            "CPU times: user 44.3 s, sys: 3.06 s, total: 47.4 s\n",
            "Wall time: 54.3 s\n"
          ]
        }
      ]
    },
    {
      "cell_type": "markdown",
      "source": [
        "### Best model"
      ],
      "metadata": {
        "id": "FP9De7YTO09L"
      }
    },
    {
      "cell_type": "code",
      "source": [
        "%%time\n",
        "\n",
        "net = net_train(train_loader, test_loader, num_epochs=20, hidden_dim=30, \n",
        "                deep=3, dropout=0.0, optimiz='adam', lr=0.001, noise=True)[0]"
      ],
      "metadata": {
        "colab": {
          "base_uri": "https://localhost:8080/"
        },
        "id": "p8pEt6_0O2-L",
        "outputId": "957e551d-1c87-44aa-db5f-5fb03a047b7d"
      },
      "execution_count": null,
      "outputs": [
        {
          "output_type": "stream",
          "name": "stdout",
          "text": [
            "Epoch: 1; Train_loss: 0.409; Test_loss: 5.021; Test_MSE: 0.643\n",
            "Epoch: 2; Train_loss: 0.328; Test_loss: 4.922; Test_MSE: 0.588\n",
            "Epoch: 3; Train_loss: 0.304; Test_loss: 4.902; Test_MSE: 0.594\n",
            "Epoch: 4; Train_loss: 0.294; Test_loss: 4.904; Test_MSE: 0.576\n",
            "Epoch: 5; Train_loss: 0.285; Test_loss: 4.802; Test_MSE: 0.599\n",
            "Epoch: 6; Train_loss: 0.277; Test_loss: 4.837; Test_MSE: 0.6\n",
            "Epoch: 7; Train_loss: 0.275; Test_loss: 4.829; Test_MSE: 0.561\n",
            "Epoch: 8; Train_loss: 0.268; Test_loss: 4.815; Test_MSE: 0.56\n",
            "Epoch: 9; Train_loss: 0.264; Test_loss: 4.781; Test_MSE: 0.58\n",
            "Epoch: 10; Train_loss: 0.264; Test_loss: 4.931; Test_MSE: 0.556\n",
            "Epoch: 11; Train_loss: 0.256; Test_loss: 4.852; Test_MSE: 0.564\n",
            "Epoch: 12; Train_loss: 0.252; Test_loss: 4.897; Test_MSE: 0.556\n",
            "Epoch: 13; Train_loss: 0.25; Test_loss: 4.89; Test_MSE: 0.557\n",
            "Epoch: 14; Train_loss: 0.25; Test_loss: 4.852; Test_MSE: 0.552\n",
            "Epoch: 15; Train_loss: 0.244; Test_loss: 4.875; Test_MSE: 0.558\n",
            "Epoch: 16; Train_loss: 0.245; Test_loss: 4.915; Test_MSE: 0.563\n",
            "Epoch: 17; Train_loss: 0.244; Test_loss: 4.954; Test_MSE: 0.551\n",
            "Epoch: 18; Train_loss: 0.237; Test_loss: 4.884; Test_MSE: 0.557\n",
            "Epoch: 19; Train_loss: 0.236; Test_loss: 4.842; Test_MSE: 0.55\n",
            "Epoch: 20; Train_loss: 0.242; Test_loss: 4.932; Test_MSE: 0.556\n",
            "CPU times: user 17.8 s, sys: 1.29 s, total: 19.1 s\n",
            "Wall time: 21.9 s\n"
          ]
        }
      ]
    },
    {
      "cell_type": "markdown",
      "source": [
        "### 4. Сравните сходимость Adam, RMSProp и SGD, сделайте вывод по качеству работы модели"
      ],
      "metadata": {
        "id": "iweBQFsnH-V8"
      }
    },
    {
      "cell_type": "code",
      "source": [
        "%%time\n",
        "\n",
        "adam_mse = net_train(train_loader, test_loader, num_epochs=50, hidden_dim=30, \n",
        "                      deep=3, dropout=0.0, optimiz='adam', lr=0.001, noise=False)[2]"
      ],
      "metadata": {
        "colab": {
          "base_uri": "https://localhost:8080/"
        },
        "id": "HX8EQrEpIABq",
        "outputId": "1344c6cd-9ba4-4e35-9835-03064025f942"
      },
      "execution_count": null,
      "outputs": [
        {
          "output_type": "stream",
          "name": "stdout",
          "text": [
            "CPU times: user 44.2 s, sys: 2.93 s, total: 47.1 s\n",
            "Wall time: 54.3 s\n"
          ]
        }
      ]
    },
    {
      "cell_type": "code",
      "source": [
        "%%time\n",
        "\n",
        "rmsprop_mse = net_train(train_loader, test_loader, num_epochs=50, hidden_dim=30, \n",
        "                      deep=3, dropout=0.0, optimiz='rmsprop', lr=0.001, noise=False)[2]"
      ],
      "metadata": {
        "colab": {
          "base_uri": "https://localhost:8080/"
        },
        "id": "OHvwoWyySG9a",
        "outputId": "09da33a7-8dbf-4382-b017-38182ec8719a"
      },
      "execution_count": null,
      "outputs": [
        {
          "output_type": "stream",
          "name": "stdout",
          "text": [
            "CPU times: user 43.2 s, sys: 3.05 s, total: 46.3 s\n",
            "Wall time: 53.8 s\n"
          ]
        }
      ]
    },
    {
      "cell_type": "code",
      "source": [
        "%%time\n",
        "\n",
        "sgd_mse = net_train(train_loader, test_loader, num_epochs=50, hidden_dim=30, \n",
        "                      deep=3, dropout=0.0, optimiz='sgd', lr=0.001, noise=False)[2]"
      ],
      "metadata": {
        "colab": {
          "base_uri": "https://localhost:8080/"
        },
        "id": "vAzGrY-MSHOZ",
        "outputId": "97570274-e442-46b6-ee70-3bb572cb98c3"
      },
      "execution_count": null,
      "outputs": [
        {
          "output_type": "stream",
          "name": "stdout",
          "text": [
            "CPU times: user 41.1 s, sys: 3.13 s, total: 44.2 s\n",
            "Wall time: 52.1 s\n"
          ]
        }
      ]
    },
    {
      "cell_type": "code",
      "source": [
        "plt.figure(figsize=(20, 10))\n",
        "plt.title(\"Сonvergence\", fontsize = 30)\n",
        "plt.xlabel(\"Epochs\", fontsize = 20)\n",
        "plt.ylabel(\"Train_loss\", fontsize = 20)\n",
        "plt.plot(adam_mse, label=\"Adam\")\n",
        "plt.plot(rmsprop_mse, label=\"RMSprop\")\n",
        "plt.plot(sgd_mse, label=\"SGD\")\n",
        "plt.legend(fontsize = 20)\n",
        "plt.tick_params(labelsize=16)\n",
        "plt.show()"
      ],
      "metadata": {
        "colab": {
          "base_uri": "https://localhost:8080/",
          "height": 648
        },
        "id": "FkZqt7TESS3a",
        "outputId": "66ff0225-0559-452e-dc23-ce73e2d625bc"
      },
      "execution_count": null,
      "outputs": [
        {
          "output_type": "display_data",
          "data": {
            "text/plain": [
              "<Figure size 1440x720 with 1 Axes>"
            ],
            "image/png": "[encoded data removed]"
          },
          "metadata": {
            "needs_background": "light"
          }
        }
      ]
    },
    {
      "cell_type": "markdown",
      "source": [
        "### Вывод:"
      ],
      "metadata": {
        "id": "Qd71QH37XclC"
      }
    },
    {
      "cell_type": "markdown",
      "source": [
        "Я создал модель используя блоки: lin -> bn -> tanh -> drop -> lin.\n",
        "\n",
        "Так как, как я прочитал, это один из оптимальных блоков. Например: drop до bn использовать плохо, потому что drop работает только при обучении, меняя статистические характеристики распределения, которые потом ищет bn. Поэтому на валидации результат будет плохим, так как drop отключается и bn получает истинные не изменённые характеристики распределения, которые он не ожидал."
      ],
      "metadata": {
        "id": "6dV4r6CyCwvw"
      }
    },
    {
      "cell_type": "markdown",
      "source": [
        "![image.png](data:image/png;base64,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)"
      ],
      "metadata": {
        "id": "m0xkMOSyCxcx"
      }
    },
    {
      "cell_type": "markdown",
      "source": [
        "Я предварительно нормализовал все данные, а так же нормализовал таргет. Так как я попробывал и результаты оказались лучше, чем если таргет не нормализовывать и использывать ReLU или LeakyReLU. 0.7 MSE без нормализации таргета и 0.55 MSE с нормализацией.\n",
        "\n",
        "Я думаю это из-за того, что у нас очень много BatchNorm в модели, и на выходе гораздо проще предсказывать величину из того же распределения, что и на входе. Хотя как мне кажется. это не очень хороший способ. Так как нам будет сложно добиться точных результатов, а не довольстоваться похожими.\n",
        "\n",
        "Так же я поэкспериментировал с выведенными мною гиперпараметрами.\n",
        "Оказалось, что drop в нашей сети является лишним, без него результат лучше, чем с ним. Наверное, BatchNorm в каждом блоке и так достаточно борется с переобучением, нормализуя данные на входе, из-за этого drop просто замедляет скорость обучения.\n",
        "\n",
        "И сравнил сходимость оптимизаторов: Adam и RMSprop сходятся почти одинаково и заметно быстрее SGD. Так как у них для каждого веса своя скорость обучения, засчёт чего модель сходится быстрее и лучше. Чем чаще меняются веса, тем скорость обучения меньше, чем реже меняются веса, тем скорость обучения выше.\n",
        "\n",
        "\n"
      ],
      "metadata": {
        "id": "sqOLVFRoXefv"
      }
    }
  ]
}
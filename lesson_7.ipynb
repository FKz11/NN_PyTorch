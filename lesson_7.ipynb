{
  "nbformat": 4,
  "nbformat_minor": 0,
  "metadata": {
    "colab": {
      "name": "lesson_7.ipynb",
      "provenance": [],
      "collapsed_sections": [],
      "authorship_tag": "ABX9TyMXtvZijmOCe0C2SRrG6yJt",
      "include_colab_link": true
    },
    "kernelspec": {
      "name": "python3",
      "display_name": "Python 3"
    },
    "language_info": {
      "name": "python"
    },
    "accelerator": "GPU",
    "gpuClass": "standard"
  },
  "cells": [
    {
      "cell_type": "markdown",
      "metadata": {
        "id": "view-in-github",
        "colab_type": "text"
      },
      "source": [
        "<a href=\"https://colab.research.google.com/github/FKz11/NN_PyTorch/blob/main/lesson_7.ipynb\" target=\"_parent\"><img src=\"https://colab.research.google.com/assets/colab-badge.svg\" alt=\"Open In Colab\"/></a>"
      ]
    },
    {
      "cell_type": "markdown",
      "source": [
        "# lesson-7"
      ],
      "metadata": {
        "id": "Uhu9u0pcaOMy"
      }
    },
    {
      "cell_type": "markdown",
      "source": [
        "### Библиотеки:"
      ],
      "metadata": {
        "id": "OCuGaLTcaRt2"
      }
    },
    {
      "cell_type": "code",
      "execution_count": 1,
      "metadata": {
        "id": "zSjVSL3Cqfeq",
        "colab": {
          "base_uri": "https://localhost:8080/"
        },
        "outputId": "4ce35179-8d51-4b04-bdb3-1fcb8fb7bbdd"
      },
      "outputs": [
        {
          "output_type": "stream",
          "name": "stdout",
          "text": [
            "  Building wheel for stop-words (setup.py) ... \u001b[?25l\u001b[?25hdone\n"
          ]
        }
      ],
      "source": [
        "pip install -qq stop-words"
      ]
    },
    {
      "cell_type": "code",
      "source": [
        "import nltk\n",
        "nltk.download('omw-1.4')\n",
        "nltk.download('wordnet')\n",
        "nltk.download(\"punkt\")"
      ],
      "metadata": {
        "colab": {
          "base_uri": "https://localhost:8080/"
        },
        "id": "lecVWELWaVLb",
        "outputId": "abbd0951-01b0-45b7-ac3e-835bfd99544f"
      },
      "execution_count": 2,
      "outputs": [
        {
          "output_type": "stream",
          "name": "stderr",
          "text": [
            "[nltk_data] Downloading package omw-1.4 to /root/nltk_data...\n",
            "[nltk_data] Downloading package wordnet to /root/nltk_data...\n",
            "[nltk_data] Downloading package punkt to /root/nltk_data...\n",
            "[nltk_data]   Unzipping tokenizers/punkt.zip.\n"
          ]
        },
        {
          "output_type": "execute_result",
          "data": {
            "text/plain": [
              "True"
            ]
          },
          "metadata": {},
          "execution_count": 2
        }
      ]
    },
    {
      "cell_type": "code",
      "source": [
        "import numpy as np\n",
        "import pandas as pd\n",
        "import matplotlib.pyplot as plt\n",
        "\n",
        "from sklearn.model_selection import train_test_split\n",
        "from sklearn.metrics import f1_score\n",
        "from sklearn.metrics import precision_recall_curve\n",
        "from sklearn.metrics import auc\n",
        "\n",
        "from string import ascii_lowercase\n",
        "from stop_words import get_stop_words\n",
        "import re\n",
        "\n",
        "import torch\n",
        "import torch.nn as nn\n",
        "import torch.nn.functional as F\n",
        "from torch.utils.data import DataLoader, Dataset"
      ],
      "metadata": {
        "id": "R6Mohgcdadie"
      },
      "execution_count": 3,
      "outputs": []
    },
    {
      "cell_type": "markdown",
      "source": [
        "## 1. Попробуйте обучить нейронную сеть GRU/LSTM для предсказания сентимента сообщений с твитера на примере https://www.kaggle.com/datasets/arkhoshghalb/twitter-sentiment-analysis-hatred-speech"
      ],
      "metadata": {
        "id": "-ZEbTlcsaiFA"
      }
    },
    {
      "cell_type": "markdown",
      "source": [
        "### Данные"
      ],
      "metadata": {
        "id": "VWh-G26lan_m"
      }
    },
    {
      "cell_type": "code",
      "source": [
        "from google.colab import drive\n",
        "drive.mount('/content/drive')"
      ],
      "metadata": {
        "colab": {
          "base_uri": "https://localhost:8080/"
        },
        "id": "_DzVZL6jakjC",
        "outputId": "6d6395c7-fa38-48a4-f96e-f29c80f00621"
      },
      "execution_count": 4,
      "outputs": [
        {
          "output_type": "stream",
          "name": "stdout",
          "text": [
            "Mounted at /content/drive\n"
          ]
        }
      ]
    },
    {
      "cell_type": "code",
      "source": [
        "!unzip -qq '/content/drive/MyDrive/Colab Notebooks/archive.zip'"
      ],
      "metadata": {
        "id": "943pUAIdaqfg"
      },
      "execution_count": 5,
      "outputs": []
    },
    {
      "cell_type": "code",
      "source": [
        "df = pd.read_csv('/content/train.csv')\n",
        "df.drop('id', axis=1, inplace=True)\n",
        "df.tail()"
      ],
      "metadata": {
        "colab": {
          "base_uri": "https://localhost:8080/",
          "height": 206
        },
        "id": "J20EGxGjaqyG",
        "outputId": "c3aa32ba-61f3-4873-c59d-2d03fd129e59"
      },
      "execution_count": 6,
      "outputs": [
        {
          "output_type": "execute_result",
          "data": {
            "text/plain": [
              "       label                                              tweet\n",
              "31957      0  ate @user isz that youuu?ðððððð...\n",
              "31958      0    to see nina turner on the airwaves trying to...\n",
              "31959      0  listening to sad songs on a monday morning otw...\n",
              "31960      1  @user #sikh #temple vandalised in in #calgary,...\n",
              "31961      0                   thank you @user for you follow  "
            ],
            "text/html": [
              "\n",
              "  <div id=\"df-ec90a7e0-7b79-4852-8a96-94afd2a3b1b9\">\n",
              "    <div class=\"colab-df-container\">\n",
              "      <div>\n",
              "<style scoped>\n",
              "    .dataframe tbody tr th:only-of-type {\n",
              "        vertical-align: middle;\n",
              "    }\n",
              "\n",
              "    .dataframe tbody tr th {\n",
              "        vertical-align: top;\n",
              "    }\n",
              "\n",
              "    .dataframe thead th {\n",
              "        text-align: right;\n",
              "    }\n",
              "</style>\n",
              "<table border=\"1\" class=\"dataframe\">\n",
              "  <thead>\n",
              "    <tr style=\"text-align: right;\">\n",
              "      <th></th>\n",
              "      <th>label</th>\n",
              "      <th>tweet</th>\n",
              "    </tr>\n",
              "  </thead>\n",
              "  <tbody>\n",
              "    <tr>\n",
              "      <th>31957</th>\n",
              "      <td>0</td>\n",
              "      <td>ate @user isz that youuu?ðððððð...</td>\n",
              "    </tr>\n",
              "    <tr>\n",
              "      <th>31958</th>\n",
              "      <td>0</td>\n",
              "      <td>to see nina turner on the airwaves trying to...</td>\n",
              "    </tr>\n",
              "    <tr>\n",
              "      <th>31959</th>\n",
              "      <td>0</td>\n",
              "      <td>listening to sad songs on a monday morning otw...</td>\n",
              "    </tr>\n",
              "    <tr>\n",
              "      <th>31960</th>\n",
              "      <td>1</td>\n",
              "      <td>@user #sikh #temple vandalised in in #calgary,...</td>\n",
              "    </tr>\n",
              "    <tr>\n",
              "      <th>31961</th>\n",
              "      <td>0</td>\n",
              "      <td>thank you @user for you follow</td>\n",
              "    </tr>\n",
              "  </tbody>\n",
              "</table>\n",
              "</div>\n",
              "      <button class=\"colab-df-convert\" onclick=\"convertToInteractive('df-ec90a7e0-7b79-4852-8a96-94afd2a3b1b9')\"\n",
              "              title=\"Convert this dataframe to an interactive table.\"\n",
              "              style=\"display:none;\">\n",
              "        \n",
              "  <svg xmlns=\"http://www.w3.org/2000/svg\" height=\"24px\"viewBox=\"0 0 24 24\"\n",
              "       width=\"24px\">\n",
              "    <path d=\"M0 0h24v24H0V0z\" fill=\"none\"/>\n",
              "    <path d=\"M18.56 5.44l.94 2.06.94-2.06 2.06-.94-2.06-.94-.94-2.06-.94 2.06-2.06.94zm-11 1L8.5 8.5l.94-2.06 2.06-.94-2.06-.94L8.5 2.5l-.94 2.06-2.06.94zm10 10l.94 2.06.94-2.06 2.06-.94-2.06-.94-.94-2.06-.94 2.06-2.06.94z\"/><path d=\"M17.41 7.96l-1.37-1.37c-.4-.4-.92-.59-1.43-.59-.52 0-1.04.2-1.43.59L10.3 9.45l-7.72 7.72c-.78.78-.78 2.05 0 2.83L4 21.41c.39.39.9.59 1.41.59.51 0 1.02-.2 1.41-.59l7.78-7.78 2.81-2.81c.8-.78.8-2.07 0-2.86zM5.41 20L4 18.59l7.72-7.72 1.47 1.35L5.41 20z\"/>\n",
              "  </svg>\n",
              "      </button>\n",
              "      \n",
              "  <style>\n",
              "    .colab-df-container {\n",
              "      display:flex;\n",
              "      flex-wrap:wrap;\n",
              "      gap: 12px;\n",
              "    }\n",
              "\n",
              "    .colab-df-convert {\n",
              "      background-color: #E8F0FE;\n",
              "      border: none;\n",
              "      border-radius: 50%;\n",
              "      cursor: pointer;\n",
              "      display: none;\n",
              "      fill: #1967D2;\n",
              "      height: 32px;\n",
              "      padding: 0 0 0 0;\n",
              "      width: 32px;\n",
              "    }\n",
              "\n",
              "    .colab-df-convert:hover {\n",
              "      background-color: #E2EBFA;\n",
              "      box-shadow: 0px 1px 2px rgba(60, 64, 67, 0.3), 0px 1px 3px 1px rgba(60, 64, 67, 0.15);\n",
              "      fill: #174EA6;\n",
              "    }\n",
              "\n",
              "    [theme=dark] .colab-df-convert {\n",
              "      background-color: #3B4455;\n",
              "      fill: #D2E3FC;\n",
              "    }\n",
              "\n",
              "    [theme=dark] .colab-df-convert:hover {\n",
              "      background-color: #434B5C;\n",
              "      box-shadow: 0px 1px 3px 1px rgba(0, 0, 0, 0.15);\n",
              "      filter: drop-shadow(0px 1px 2px rgba(0, 0, 0, 0.3));\n",
              "      fill: #FFFFFF;\n",
              "    }\n",
              "  </style>\n",
              "\n",
              "      <script>\n",
              "        const buttonEl =\n",
              "          document.querySelector('#df-ec90a7e0-7b79-4852-8a96-94afd2a3b1b9 button.colab-df-convert');\n",
              "        buttonEl.style.display =\n",
              "          google.colab.kernel.accessAllowed ? 'block' : 'none';\n",
              "\n",
              "        async function convertToInteractive(key) {\n",
              "          const element = document.querySelector('#df-ec90a7e0-7b79-4852-8a96-94afd2a3b1b9');\n",
              "          const dataTable =\n",
              "            await google.colab.kernel.invokeFunction('convertToInteractive',\n",
              "                                                     [key], {});\n",
              "          if (!dataTable) return;\n",
              "\n",
              "          const docLinkHtml = 'Like what you see? Visit the ' +\n",
              "            '<a target=\"_blank\" href=https://colab.research.google.com/notebooks/data_table.ipynb>data table notebook</a>'\n",
              "            + ' to learn more about interactive tables.';\n",
              "          element.innerHTML = '';\n",
              "          dataTable['output_type'] = 'display_data';\n",
              "          await google.colab.output.renderOutput(dataTable, element);\n",
              "          const docLink = document.createElement('div');\n",
              "          docLink.innerHTML = docLinkHtml;\n",
              "          element.appendChild(docLink);\n",
              "        }\n",
              "      </script>\n",
              "    </div>\n",
              "  </div>\n",
              "  "
            ]
          },
          "metadata": {},
          "execution_count": 6
        }
      ]
    },
    {
      "cell_type": "markdown",
      "source": [
        "#### train_test_split"
      ],
      "metadata": {
        "id": "8JJO0uU_azIt"
      }
    },
    {
      "cell_type": "code",
      "source": [
        "train_df, test_df = train_test_split(df, test_size=0.3, random_state=42)\n",
        "\n",
        "train_df.reset_index(drop=True, inplace=True)\n",
        "test_df.reset_index(drop=True, inplace=True)\n",
        "\n",
        "train_df.tail()"
      ],
      "metadata": {
        "colab": {
          "base_uri": "https://localhost:8080/",
          "height": 206
        },
        "id": "GJNHhYuIazaY",
        "outputId": "65a674fe-e03b-4c42-ac5a-d37fa4064ac4"
      },
      "execution_count": 7,
      "outputs": [
        {
          "output_type": "execute_result",
          "data": {
            "text/plain": [
              "       label                                              tweet\n",
              "22368      0  #waltdisneyreso  should be ashamed of themselv...\n",
              "22369      0   @user invited @user over for a catch up and i...\n",
              "22370      1  black professor makes assumptions about an ent...\n",
              "22371      0  #lgbtqhatetrumppay is total #liberal trash. it...\n",
              "22372      0  what makes people   is relative. we have our w..."
            ],
            "text/html": [
              "\n",
              "  <div id=\"df-b6cfc585-5608-4bc6-8698-60e35444bd06\">\n",
              "    <div class=\"colab-df-container\">\n",
              "      <div>\n",
              "<style scoped>\n",
              "    .dataframe tbody tr th:only-of-type {\n",
              "        vertical-align: middle;\n",
              "    }\n",
              "\n",
              "    .dataframe tbody tr th {\n",
              "        vertical-align: top;\n",
              "    }\n",
              "\n",
              "    .dataframe thead th {\n",
              "        text-align: right;\n",
              "    }\n",
              "</style>\n",
              "<table border=\"1\" class=\"dataframe\">\n",
              "  <thead>\n",
              "    <tr style=\"text-align: right;\">\n",
              "      <th></th>\n",
              "      <th>label</th>\n",
              "      <th>tweet</th>\n",
              "    </tr>\n",
              "  </thead>\n",
              "  <tbody>\n",
              "    <tr>\n",
              "      <th>22368</th>\n",
              "      <td>0</td>\n",
              "      <td>#waltdisneyreso  should be ashamed of themselv...</td>\n",
              "    </tr>\n",
              "    <tr>\n",
              "      <th>22369</th>\n",
              "      <td>0</td>\n",
              "      <td>@user invited @user over for a catch up and i...</td>\n",
              "    </tr>\n",
              "    <tr>\n",
              "      <th>22370</th>\n",
              "      <td>1</td>\n",
              "      <td>black professor makes assumptions about an ent...</td>\n",
              "    </tr>\n",
              "    <tr>\n",
              "      <th>22371</th>\n",
              "      <td>0</td>\n",
              "      <td>#lgbtqhatetrumppay is total #liberal trash. it...</td>\n",
              "    </tr>\n",
              "    <tr>\n",
              "      <th>22372</th>\n",
              "      <td>0</td>\n",
              "      <td>what makes people   is relative. we have our w...</td>\n",
              "    </tr>\n",
              "  </tbody>\n",
              "</table>\n",
              "</div>\n",
              "      <button class=\"colab-df-convert\" onclick=\"convertToInteractive('df-b6cfc585-5608-4bc6-8698-60e35444bd06')\"\n",
              "              title=\"Convert this dataframe to an interactive table.\"\n",
              "              style=\"display:none;\">\n",
              "        \n",
              "  <svg xmlns=\"http://www.w3.org/2000/svg\" height=\"24px\"viewBox=\"0 0 24 24\"\n",
              "       width=\"24px\">\n",
              "    <path d=\"M0 0h24v24H0V0z\" fill=\"none\"/>\n",
              "    <path d=\"M18.56 5.44l.94 2.06.94-2.06 2.06-.94-2.06-.94-.94-2.06-.94 2.06-2.06.94zm-11 1L8.5 8.5l.94-2.06 2.06-.94-2.06-.94L8.5 2.5l-.94 2.06-2.06.94zm10 10l.94 2.06.94-2.06 2.06-.94-2.06-.94-.94-2.06-.94 2.06-2.06.94z\"/><path d=\"M17.41 7.96l-1.37-1.37c-.4-.4-.92-.59-1.43-.59-.52 0-1.04.2-1.43.59L10.3 9.45l-7.72 7.72c-.78.78-.78 2.05 0 2.83L4 21.41c.39.39.9.59 1.41.59.51 0 1.02-.2 1.41-.59l7.78-7.78 2.81-2.81c.8-.78.8-2.07 0-2.86zM5.41 20L4 18.59l7.72-7.72 1.47 1.35L5.41 20z\"/>\n",
              "  </svg>\n",
              "      </button>\n",
              "      \n",
              "  <style>\n",
              "    .colab-df-container {\n",
              "      display:flex;\n",
              "      flex-wrap:wrap;\n",
              "      gap: 12px;\n",
              "    }\n",
              "\n",
              "    .colab-df-convert {\n",
              "      background-color: #E8F0FE;\n",
              "      border: none;\n",
              "      border-radius: 50%;\n",
              "      cursor: pointer;\n",
              "      display: none;\n",
              "      fill: #1967D2;\n",
              "      height: 32px;\n",
              "      padding: 0 0 0 0;\n",
              "      width: 32px;\n",
              "    }\n",
              "\n",
              "    .colab-df-convert:hover {\n",
              "      background-color: #E2EBFA;\n",
              "      box-shadow: 0px 1px 2px rgba(60, 64, 67, 0.3), 0px 1px 3px 1px rgba(60, 64, 67, 0.15);\n",
              "      fill: #174EA6;\n",
              "    }\n",
              "\n",
              "    [theme=dark] .colab-df-convert {\n",
              "      background-color: #3B4455;\n",
              "      fill: #D2E3FC;\n",
              "    }\n",
              "\n",
              "    [theme=dark] .colab-df-convert:hover {\n",
              "      background-color: #434B5C;\n",
              "      box-shadow: 0px 1px 3px 1px rgba(0, 0, 0, 0.15);\n",
              "      filter: drop-shadow(0px 1px 2px rgba(0, 0, 0, 0.3));\n",
              "      fill: #FFFFFF;\n",
              "    }\n",
              "  </style>\n",
              "\n",
              "      <script>\n",
              "        const buttonEl =\n",
              "          document.querySelector('#df-b6cfc585-5608-4bc6-8698-60e35444bd06 button.colab-df-convert');\n",
              "        buttonEl.style.display =\n",
              "          google.colab.kernel.accessAllowed ? 'block' : 'none';\n",
              "\n",
              "        async function convertToInteractive(key) {\n",
              "          const element = document.querySelector('#df-b6cfc585-5608-4bc6-8698-60e35444bd06');\n",
              "          const dataTable =\n",
              "            await google.colab.kernel.invokeFunction('convertToInteractive',\n",
              "                                                     [key], {});\n",
              "          if (!dataTable) return;\n",
              "\n",
              "          const docLinkHtml = 'Like what you see? Visit the ' +\n",
              "            '<a target=\"_blank\" href=https://colab.research.google.com/notebooks/data_table.ipynb>data table notebook</a>'\n",
              "            + ' to learn more about interactive tables.';\n",
              "          element.innerHTML = '';\n",
              "          dataTable['output_type'] = 'display_data';\n",
              "          await google.colab.output.renderOutput(dataTable, element);\n",
              "          const docLink = document.createElement('div');\n",
              "          docLink.innerHTML = docLinkHtml;\n",
              "          element.appendChild(docLink);\n",
              "        }\n",
              "      </script>\n",
              "    </div>\n",
              "  </div>\n",
              "  "
            ]
          },
          "metadata": {},
          "execution_count": 7
        }
      ]
    },
    {
      "cell_type": "code",
      "source": [
        "train_df['label'].value_counts()"
      ],
      "metadata": {
        "colab": {
          "base_uri": "https://localhost:8080/"
        },
        "id": "BEVHf1aCa1pL",
        "outputId": "abb35d42-3727-4719-afa6-ce00653afe87"
      },
      "execution_count": 8,
      "outputs": [
        {
          "output_type": "execute_result",
          "data": {
            "text/plain": [
              "0    20815\n",
              "1     1558\n",
              "Name: label, dtype: int64"
            ]
          },
          "metadata": {},
          "execution_count": 8
        }
      ]
    },
    {
      "cell_type": "code",
      "source": [
        "disbalance = train_df['label'].value_counts()[0] / train_df['label'].value_counts()[1]\n",
        "disbalance"
      ],
      "metadata": {
        "colab": {
          "base_uri": "https://localhost:8080/"
        },
        "id": "1RsIw-Ena3HB",
        "outputId": "26c3ece1-0d46-44bf-c734-8fda1967f562"
      },
      "execution_count": 9,
      "outputs": [
        {
          "output_type": "execute_result",
          "data": {
            "text/plain": [
              "13.36007702182285"
            ]
          },
          "metadata": {},
          "execution_count": 9
        }
      ]
    },
    {
      "cell_type": "markdown",
      "source": [
        "Видно, что у нас есть сильный дизбаланс классов"
      ],
      "metadata": {
        "id": "VDdq-2oua4nX"
      }
    },
    {
      "cell_type": "markdown",
      "source": [
        "### Предобработка"
      ],
      "metadata": {
        "id": "wyTdSa-ga6Br"
      }
    },
    {
      "cell_type": "markdown",
      "source": [
        "Стоп слова, которые не несут большой смысловой нагрузки"
      ],
      "metadata": {
        "id": "2lrSShpha8v0"
      }
    },
    {
      "cell_type": "code",
      "source": [
        "sw = set(get_stop_words('en'))\n",
        "sw"
      ],
      "metadata": {
        "colab": {
          "base_uri": "https://localhost:8080/"
        },
        "id": "hWufPELEa_kI",
        "outputId": "52d4e478-ebb5-44d8-c846-2ef34ef74ac0"
      },
      "execution_count": 10,
      "outputs": [
        {
          "output_type": "execute_result",
          "data": {
            "text/plain": [
              "{'a',\n",
              " 'about',\n",
              " 'above',\n",
              " 'after',\n",
              " 'again',\n",
              " 'against',\n",
              " 'all',\n",
              " 'am',\n",
              " 'an',\n",
              " 'and',\n",
              " 'any',\n",
              " 'are',\n",
              " \"aren't\",\n",
              " 'as',\n",
              " 'at',\n",
              " 'be',\n",
              " 'because',\n",
              " 'been',\n",
              " 'before',\n",
              " 'being',\n",
              " 'below',\n",
              " 'between',\n",
              " 'both',\n",
              " 'but',\n",
              " 'by',\n",
              " \"can't\",\n",
              " 'cannot',\n",
              " 'could',\n",
              " \"couldn't\",\n",
              " 'did',\n",
              " \"didn't\",\n",
              " 'do',\n",
              " 'does',\n",
              " \"doesn't\",\n",
              " 'doing',\n",
              " \"don't\",\n",
              " 'down',\n",
              " 'during',\n",
              " 'each',\n",
              " 'few',\n",
              " 'for',\n",
              " 'from',\n",
              " 'further',\n",
              " 'had',\n",
              " \"hadn't\",\n",
              " 'has',\n",
              " \"hasn't\",\n",
              " 'have',\n",
              " \"haven't\",\n",
              " 'having',\n",
              " 'he',\n",
              " \"he'd\",\n",
              " \"he'll\",\n",
              " \"he's\",\n",
              " 'her',\n",
              " 'here',\n",
              " \"here's\",\n",
              " 'hers',\n",
              " 'herself',\n",
              " 'him',\n",
              " 'himself',\n",
              " 'his',\n",
              " 'how',\n",
              " \"how's\",\n",
              " 'i',\n",
              " \"i'd\",\n",
              " \"i'll\",\n",
              " \"i'm\",\n",
              " \"i've\",\n",
              " 'if',\n",
              " 'in',\n",
              " 'into',\n",
              " 'is',\n",
              " \"isn't\",\n",
              " 'it',\n",
              " \"it's\",\n",
              " 'its',\n",
              " 'itself',\n",
              " \"let's\",\n",
              " 'me',\n",
              " 'more',\n",
              " 'most',\n",
              " \"mustn't\",\n",
              " 'my',\n",
              " 'myself',\n",
              " 'no',\n",
              " 'nor',\n",
              " 'not',\n",
              " 'of',\n",
              " 'off',\n",
              " 'on',\n",
              " 'once',\n",
              " 'only',\n",
              " 'or',\n",
              " 'other',\n",
              " 'ought',\n",
              " 'our',\n",
              " 'ours',\n",
              " 'ourselves',\n",
              " 'out',\n",
              " 'over',\n",
              " 'own',\n",
              " 'same',\n",
              " \"shan't\",\n",
              " 'she',\n",
              " \"she'd\",\n",
              " \"she'll\",\n",
              " \"she's\",\n",
              " 'should',\n",
              " \"shouldn't\",\n",
              " 'so',\n",
              " 'some',\n",
              " 'such',\n",
              " 'than',\n",
              " 'that',\n",
              " \"that's\",\n",
              " 'the',\n",
              " 'their',\n",
              " 'theirs',\n",
              " 'them',\n",
              " 'themselves',\n",
              " 'then',\n",
              " 'there',\n",
              " \"there's\",\n",
              " 'these',\n",
              " 'they',\n",
              " \"they'd\",\n",
              " \"they'll\",\n",
              " \"they're\",\n",
              " \"they've\",\n",
              " 'this',\n",
              " 'those',\n",
              " 'through',\n",
              " 'to',\n",
              " 'too',\n",
              " 'under',\n",
              " 'until',\n",
              " 'up',\n",
              " 'very',\n",
              " 'was',\n",
              " \"wasn't\",\n",
              " 'we',\n",
              " \"we'd\",\n",
              " \"we'll\",\n",
              " \"we're\",\n",
              " \"we've\",\n",
              " 'were',\n",
              " \"weren't\",\n",
              " 'what',\n",
              " \"what's\",\n",
              " 'when',\n",
              " \"when's\",\n",
              " 'where',\n",
              " \"where's\",\n",
              " 'which',\n",
              " 'while',\n",
              " 'who',\n",
              " \"who's\",\n",
              " 'whom',\n",
              " 'why',\n",
              " \"why's\",\n",
              " 'with',\n",
              " \"won't\",\n",
              " 'would',\n",
              " \"wouldn't\",\n",
              " 'you',\n",
              " \"you'd\",\n",
              " \"you'll\",\n",
              " \"you're\",\n",
              " \"you've\",\n",
              " 'your',\n",
              " 'yours',\n",
              " 'yourself',\n",
              " 'yourselves'}"
            ]
          },
          "metadata": {},
          "execution_count": 10
        }
      ]
    },
    {
      "cell_type": "markdown",
      "source": [
        "Обозначим возможные символы"
      ],
      "metadata": {
        "id": "rxYtKHfNa-Df"
      }
    },
    {
      "cell_type": "code",
      "source": [
        "ascii_plus = ascii_lowercase + \" \"\n",
        "ascii_plus"
      ],
      "metadata": {
        "colab": {
          "base_uri": "https://localhost:8080/",
          "height": 36
        },
        "id": "nqquu3jcbD-G",
        "outputId": "02be04fd-d361-4af0-e4ef-aa0f1e09c4dd"
      },
      "execution_count": 11,
      "outputs": [
        {
          "output_type": "execute_result",
          "data": {
            "text/plain": [
              "'abcdefghijklmnopqrstuvwxyz '"
            ],
            "application/vnd.google.colaboratory.intrinsic+json": {
              "type": "string"
            }
          },
          "metadata": {},
          "execution_count": 11
        }
      ]
    },
    {
      "cell_type": "code",
      "source": [
        "lemmatizer = nltk.stem.WordNetLemmatizer()\n",
        "lemmatizer.lemmatize('feet')"
      ],
      "metadata": {
        "colab": {
          "base_uri": "https://localhost:8080/",
          "height": 36
        },
        "id": "xtsti8vmbN2n",
        "outputId": "eb4da534-7930-4b7f-9466-24c7bbdb846b"
      },
      "execution_count": 12,
      "outputs": [
        {
          "output_type": "execute_result",
          "data": {
            "text/plain": [
              "'foot'"
            ],
            "application/vnd.google.colaboratory.intrinsic+json": {
              "type": "string"
            }
          },
          "metadata": {},
          "execution_count": 12
        }
      ]
    },
    {
      "cell_type": "markdown",
      "source": [
        "Предобработка текста"
      ],
      "metadata": {
        "id": "UteW3X0Xc5u0"
      }
    },
    {
      "cell_type": "code",
      "source": [
        "def preprocess_text(txt, ascii_plus, lemmatizer):\n",
        "    txt = txt.lower()\n",
        "    txt = \"\".join(s for s in txt if s in ascii_plus)\n",
        "    txt = \" \".join(lemmatizer.lemmatize(word) for word in txt.split() if word not in sw)\n",
        "    return txt"
      ],
      "metadata": {
        "id": "NBjfVX2rbUPE"
      },
      "execution_count": 13,
      "outputs": []
    },
    {
      "cell_type": "code",
      "source": [
        "train_df['tweet'][1]"
      ],
      "metadata": {
        "colab": {
          "base_uri": "https://localhost:8080/",
          "height": 36
        },
        "id": "hU_nmahXe9fH",
        "outputId": "2793876a-ef86-414f-b3d1-754d77a84448"
      },
      "execution_count": 14,
      "outputs": [
        {
          "output_type": "execute_result",
          "data": {
            "text/plain": [
              "'dese niggas will show dese otha bitches on fb, snap nd twitter more attention then dey do their own girl   but #true ð\\x9f\\x92¯'"
            ],
            "application/vnd.google.colaboratory.intrinsic+json": {
              "type": "string"
            }
          },
          "metadata": {},
          "execution_count": 14
        }
      ]
    },
    {
      "cell_type": "code",
      "source": [
        "preprocess_text(train_df['tweet'][1], ascii_plus, lemmatizer)"
      ],
      "metadata": {
        "colab": {
          "base_uri": "https://localhost:8080/",
          "height": 36
        },
        "id": "cpPun7_te9pF",
        "outputId": "96ab3ffd-d995-4934-8bfa-5d868de199b3"
      },
      "execution_count": 15,
      "outputs": [
        {
          "output_type": "execute_result",
          "data": {
            "text/plain": [
              "'dese nigga will show dese otha bitch fb snap nd twitter attention dey girl true'"
            ],
            "application/vnd.google.colaboratory.intrinsic+json": {
              "type": "string"
            }
          },
          "metadata": {},
          "execution_count": 15
        }
      ]
    },
    {
      "cell_type": "code",
      "source": [
        "train_df['tweet'].tail()"
      ],
      "metadata": {
        "colab": {
          "base_uri": "https://localhost:8080/"
        },
        "id": "N1kbYl31e_BT",
        "outputId": "7d7ad9cd-a844-47c9-eb35-824375e42e4e"
      },
      "execution_count": 16,
      "outputs": [
        {
          "output_type": "execute_result",
          "data": {
            "text/plain": [
              "22368    #waltdisneyreso  should be ashamed of themselv...\n",
              "22369     @user invited @user over for a catch up and i...\n",
              "22370    black professor makes assumptions about an ent...\n",
              "22371    #lgbtqhatetrumppay is total #liberal trash. it...\n",
              "22372    what makes people   is relative. we have our w...\n",
              "Name: tweet, dtype: object"
            ]
          },
          "metadata": {},
          "execution_count": 16
        }
      ]
    },
    {
      "cell_type": "code",
      "source": [
        "train_df['tweet_preprocess'] = train_df['tweet'].apply(lambda txt: preprocess_text(txt, ascii_plus, lemmatizer))\n",
        "test_df['tweet_preprocess'] = test_df['tweet'].apply(lambda txt: preprocess_text(txt, ascii_plus, lemmatizer))\n",
        "train_df['tweet_preprocess'].tail()"
      ],
      "metadata": {
        "colab": {
          "base_uri": "https://localhost:8080/"
        },
        "id": "_3CzuukqfFKh",
        "outputId": "63793ac4-d04d-4cbc-c922-6523296e8d13"
      },
      "execution_count": 17,
      "outputs": [
        {
          "output_type": "execute_result",
          "data": {
            "text/plain": [
              "22368    waltdisneyreso ashamed knew alligator beach si...\n",
              "22369    user invited user catch couldnt stop talking m...\n",
              "22370    black professor make assumption entire race wh...\n",
              "22371    lgbtqhatetrumppay total liberal trash amp path...\n",
              "22372                      make people relative way africa\n",
              "Name: tweet_preprocess, dtype: object"
            ]
          },
          "metadata": {},
          "execution_count": 17
        }
      ]
    },
    {
      "cell_type": "markdown",
      "source": [
        "Сравнивая токенизацию и split, находим, что они отличаются только в 162 примерах"
      ],
      "metadata": {
        "id": "XjMLK_kLfXR-"
      }
    },
    {
      "cell_type": "code",
      "source": [
        "train_df['tweet_preprocess'].apply(lambda txt: nltk.tokenize.word_tokenize(txt) != txt.split()).sum()"
      ],
      "metadata": {
        "colab": {
          "base_uri": "https://localhost:8080/"
        },
        "id": "91DBeDCdfXgx",
        "outputId": "c1f1ac5f-56c0-42a2-8d1f-bef897d753bc"
      },
      "execution_count": 18,
      "outputs": [
        {
          "output_type": "execute_result",
          "data": {
            "text/plain": [
              "162"
            ]
          },
          "metadata": {},
          "execution_count": 18
        }
      ]
    },
    {
      "cell_type": "code",
      "source": [
        "j = 0\n",
        "for i in train_df['tweet_preprocess'].apply(lambda txt: nltk.tokenize.word_tokenize(txt) != txt.split()):\n",
        "  if i:\n",
        "    print(j)\n",
        "    break\n",
        "  j +=1"
      ],
      "metadata": {
        "colab": {
          "base_uri": "https://localhost:8080/"
        },
        "id": "liRsMCuafY_7",
        "outputId": "18b7211f-1a1d-4550-87b0-0dfd11a3b551"
      },
      "execution_count": 19,
      "outputs": [
        {
          "output_type": "stream",
          "name": "stdout",
          "text": [
            "136\n"
          ]
        }
      ]
    },
    {
      "cell_type": "code",
      "source": [
        "train_df['tweet_preprocess'][j]"
      ],
      "metadata": {
        "colab": {
          "base_uri": "https://localhost:8080/",
          "height": 36
        },
        "id": "wLoedBS6faEF",
        "outputId": "2928898a-5f29-48bb-b9b4-ceefc04071b0"
      },
      "execution_count": 20,
      "outputs": [
        {
          "output_type": "execute_result",
          "data": {
            "text/plain": [
              "'now see come friday gotta go see'"
            ],
            "application/vnd.google.colaboratory.intrinsic+json": {
              "type": "string"
            }
          },
          "metadata": {},
          "execution_count": 20
        }
      ]
    },
    {
      "cell_type": "code",
      "source": [
        "train_df['tweet_preprocess'][j].split()"
      ],
      "metadata": {
        "colab": {
          "base_uri": "https://localhost:8080/"
        },
        "id": "78rUwOIafbI1",
        "outputId": "ae988a43-ac4e-49d9-f312-541d12807027"
      },
      "execution_count": 21,
      "outputs": [
        {
          "output_type": "execute_result",
          "data": {
            "text/plain": [
              "['now', 'see', 'come', 'friday', 'gotta', 'go', 'see']"
            ]
          },
          "metadata": {},
          "execution_count": 21
        }
      ]
    },
    {
      "cell_type": "code",
      "source": [
        "nltk.tokenize.word_tokenize(train_df['tweet_preprocess'][j])"
      ],
      "metadata": {
        "colab": {
          "base_uri": "https://localhost:8080/"
        },
        "id": "-ddvZflEfcJ2",
        "outputId": "baa4cd0c-aca6-435b-d3bf-2712459273ef"
      },
      "execution_count": 22,
      "outputs": [
        {
          "output_type": "execute_result",
          "data": {
            "text/plain": [
              "['now', 'see', 'come', 'friday', 'got', 'ta', 'go', 'see']"
            ]
          },
          "metadata": {},
          "execution_count": 22
        }
      ]
    },
    {
      "cell_type": "markdown",
      "source": [
        "Видно, что токенизация даёт ненужные новые сущности, разделяя такие слова как gotta, чего нам бы не хотелось"
      ],
      "metadata": {
        "id": "TP-TFyQFfekr"
      }
    },
    {
      "cell_type": "code",
      "source": [
        "train_df['tweet_split'] = train_df['tweet_preprocess'].apply(lambda txt: txt.split())\n",
        "test_df['tweet_split'] = test_df['tweet_preprocess'].apply(lambda txt: txt.split())\n",
        "train_df['tweet_split'].tail()"
      ],
      "metadata": {
        "colab": {
          "base_uri": "https://localhost:8080/"
        },
        "id": "g2svcWxlfgEp",
        "outputId": "a13b27ad-f302-491f-f0d5-11afdee99a7b"
      },
      "execution_count": 23,
      "outputs": [
        {
          "output_type": "execute_result",
          "data": {
            "text/plain": [
              "22368    [waltdisneyreso, ashamed, knew, alligator, bea...\n",
              "22369    [user, invited, user, catch, couldnt, stop, ta...\n",
              "22370    [black, professor, make, assumption, entire, r...\n",
              "22371    [lgbtqhatetrumppay, total, liberal, trash, amp...\n",
              "22372                [make, people, relative, way, africa]\n",
              "Name: tweet_split, dtype: object"
            ]
          },
          "metadata": {},
          "execution_count": 23
        }
      ]
    },
    {
      "cell_type": "code",
      "source": [
        "tokens = dict()\n",
        "\n",
        "for txt in train_df['tweet_split']:\n",
        "  for word in txt:\n",
        "    tokens[word] = tokens.get(word, 0) + 1\n",
        "\n",
        "sorted_tokens = sorted(tokens, key=tokens.get, reverse=True)"
      ],
      "metadata": {
        "id": "1LWeFzmZfhRJ"
      },
      "execution_count": 24,
      "outputs": []
    },
    {
      "cell_type": "code",
      "source": [
        "for i in range(10):\n",
        "  print(sorted_tokens[i], tokens[sorted_tokens[i]])"
      ],
      "metadata": {
        "colab": {
          "base_uri": "https://localhost:8080/"
        },
        "id": "yAyi5A0ifon6",
        "outputId": "b06ab340-dd4a-430b-ac18-b075f920629f"
      },
      "execution_count": 25,
      "outputs": [
        {
          "output_type": "stream",
          "name": "stdout",
          "text": [
            "user 12225\n",
            "day 1968\n",
            "love 1937\n",
            "happy 1203\n",
            "u 1174\n",
            "amp 1122\n",
            "just 941\n",
            "will 883\n",
            "life 879\n",
            "time 863\n"
          ]
        }
      ]
    },
    {
      "cell_type": "code",
      "source": [
        "len(sorted_tokens)"
      ],
      "metadata": {
        "colab": {
          "base_uri": "https://localhost:8080/"
        },
        "id": "3mKfIXpDfq0g",
        "outputId": "fc0c29b0-3a62-4d6e-8f67-db064ac02dcd"
      },
      "execution_count": 26,
      "outputs": [
        {
          "output_type": "execute_result",
          "data": {
            "text/plain": [
              "29703"
            ]
          },
          "metadata": {},
          "execution_count": 26
        }
      ]
    },
    {
      "cell_type": "code",
      "source": [
        "VOCABULARY_SIZE = 10000\n",
        "VOCABULARY_SIZE"
      ],
      "metadata": {
        "colab": {
          "base_uri": "https://localhost:8080/"
        },
        "id": "XeHig5KvfrwB",
        "outputId": "3fede428-81a5-45b7-aee9-78dd946b070c"
      },
      "execution_count": 27,
      "outputs": [
        {
          "output_type": "execute_result",
          "data": {
            "text/plain": [
              "10000"
            ]
          },
          "metadata": {},
          "execution_count": 27
        }
      ]
    },
    {
      "cell_type": "markdown",
      "source": [
        "Возьмём из токенов первые VOCABULARY_SIZE-1 элементов, так как у нас будет ещё один элемент 0, обозначающий отсутсвие слова"
      ],
      "metadata": {
        "id": "nNeKoa5TftGu"
      }
    },
    {
      "cell_type": "code",
      "source": [
        "vocabulary = {w: i for i, w in enumerate(sorted_tokens[:VOCABULARY_SIZE-1], 1)}\n",
        "for i in list(vocabulary.keys())[:10]:\n",
        "  print(i, vocabulary[i])"
      ],
      "metadata": {
        "colab": {
          "base_uri": "https://localhost:8080/"
        },
        "id": "8oP30kZ-ftQC",
        "outputId": "9366c478-e385-4277-f6be-40453894c326"
      },
      "execution_count": 28,
      "outputs": [
        {
          "output_type": "stream",
          "name": "stdout",
          "text": [
            "user 1\n",
            "day 2\n",
            "love 3\n",
            "happy 4\n",
            "u 5\n",
            "amp 6\n",
            "just 7\n",
            "will 8\n",
            "life 9\n",
            "time 10\n"
          ]
        }
      ]
    },
    {
      "cell_type": "code",
      "source": [
        "sorted_tokens[VOCABULARY_SIZE-2], tokens[sorted_tokens[VOCABULARY_SIZE-2]]"
      ],
      "metadata": {
        "colab": {
          "base_uri": "https://localhost:8080/"
        },
        "id": "7qEZP7kffvzs",
        "outputId": "0de98162-b30c-43aa-e633-a22397e0794f"
      },
      "execution_count": 29,
      "outputs": [
        {
          "output_type": "execute_result",
          "data": {
            "text/plain": [
              "('matte', 2)"
            ]
          },
          "metadata": {},
          "execution_count": 29
        }
      ]
    },
    {
      "cell_type": "markdown",
      "source": [
        "Последний взятый токен встречался всего 2 раза, значит можно предположить, что наш словарь имеет почти все информативные слова"
      ],
      "metadata": {
        "id": "Xsnt-av8fxO2"
      }
    },
    {
      "cell_type": "code",
      "source": [
        "train_df['tweet_split'].apply(lambda txt: len(txt)).max()"
      ],
      "metadata": {
        "colab": {
          "base_uri": "https://localhost:8080/"
        },
        "id": "UFm1gqBIfyfw",
        "outputId": "cb9de0b4-2b51-4d05-f5bd-2d4fa174ad20"
      },
      "execution_count": 30,
      "outputs": [
        {
          "output_type": "execute_result",
          "data": {
            "text/plain": [
              "24"
            ]
          },
          "metadata": {},
          "execution_count": 30
        }
      ]
    },
    {
      "cell_type": "code",
      "source": [
        "train_df['tweet_split'].apply(lambda txt: len(txt)).mean()"
      ],
      "metadata": {
        "colab": {
          "base_uri": "https://localhost:8080/"
        },
        "id": "897Dp9y2fzfP",
        "outputId": "bf48af36-adb4-4347-9117-240e07ed9c49"
      },
      "execution_count": 31,
      "outputs": [
        {
          "output_type": "execute_result",
          "data": {
            "text/plain": [
              "8.448263531935815"
            ]
          },
          "metadata": {},
          "execution_count": 31
        }
      ]
    },
    {
      "cell_type": "code",
      "source": [
        "MAX_LEN = 10\n",
        "MAX_LEN"
      ],
      "metadata": {
        "colab": {
          "base_uri": "https://localhost:8080/"
        },
        "id": "ShQzzSjmf0ZU",
        "outputId": "25e02e85-e6cf-45df-cf04-a9615fa84df4"
      },
      "execution_count": 32,
      "outputs": [
        {
          "output_type": "execute_result",
          "data": {
            "text/plain": [
              "10"
            ]
          },
          "metadata": {},
          "execution_count": 32
        }
      ]
    },
    {
      "cell_type": "markdown",
      "source": [
        "Такой максимальной длиной мы довольно хорошо описываем наши примеры, так как она больше средней, при этом не перегружаем модель, как если бы мы брали максимальную длину примеров"
      ],
      "metadata": {
        "id": "pq9P5oYpf2Yo"
      }
    },
    {
      "cell_type": "markdown",
      "source": [
        "Приведём данные к числовым векторам одинаковой длины"
      ],
      "metadata": {
        "id": "-JUMohhNf5ZI"
      }
    },
    {
      "cell_type": "code",
      "source": [
        "def text_to_sequence(txt, vocabulary, max_len):\n",
        "  response = []\n",
        "  for w in txt:\n",
        "    if w in vocabulary.keys():\n",
        "      response.append(vocabulary[w])\n",
        "    if len(response) == max_len:\n",
        "      break\n",
        "  response += [0]*(max_len-len(response))\n",
        "  return response"
      ],
      "metadata": {
        "id": "BGMFlq58f6pE"
      },
      "execution_count": 33,
      "outputs": []
    },
    {
      "cell_type": "code",
      "source": [
        "train_df['tweet_vocabulary'] = train_df['tweet_split'].apply(lambda txt: text_to_sequence(txt, vocabulary, MAX_LEN))\n",
        "test_df['tweet_vocabulary'] = test_df['tweet_split'].apply(lambda txt: text_to_sequence(txt, vocabulary, MAX_LEN))\n",
        "train_df['tweet_vocabulary'].tail()"
      ],
      "metadata": {
        "colab": {
          "base_uri": "https://localhost:8080/"
        },
        "id": "dSw4XTULf-eO",
        "outputId": "10a038e6-c60e-4476-ba6e-3a3e59f83b57"
      },
      "execution_count": 34,
      "outputs": [
        {
          "output_type": "execute_result",
          "data": {
            "text/plain": [
              "22368          [2086, 1127, 1202, 200, 619, 1, 0, 0, 0, 0]\n",
              "22369        [1, 2750, 1, 1508, 639, 135, 657, 78, 3, 205]\n",
              "22370    [126, 20, 1002, 393, 2116, 1953, 1002, 393, 90...\n",
              "22371           [1511, 353, 2410, 6, 705, 383, 0, 0, 0, 0]\n",
              "22372              [20, 21, 3169, 43, 1487, 0, 0, 0, 0, 0]\n",
              "Name: tweet_vocabulary, dtype: object"
            ]
          },
          "metadata": {},
          "execution_count": 34
        }
      ]
    },
    {
      "cell_type": "markdown",
      "source": [
        "### Создание модели"
      ],
      "metadata": {
        "id": "mf7FT7jif_12"
      }
    },
    {
      "cell_type": "markdown",
      "source": [
        "Используем  lstm слой"
      ],
      "metadata": {
        "id": "_NLwQshogEaA"
      }
    },
    {
      "cell_type": "code",
      "source": [
        "class Net(nn.Module):\n",
        "    def __init__(self, max_len, vocab_size, embedding_dim, padding_idx, \n",
        "                 hidden_dim, num_classes, dropout, num_layers, use_last):\n",
        "        super().__init__()\n",
        "        self.use_last = use_last\n",
        "        self.embedding = nn.Embedding(vocab_size, embedding_dim, padding_idx)\n",
        "        self.lstm = nn.LSTM(embedding_dim, hidden_dim, num_layers, batch_first=True)\n",
        "        self.bn_1 = nn.BatchNorm1d(hidden_dim)\n",
        "        self.linear_1 = nn.Linear(hidden_dim, hidden_dim // 2)\n",
        "        self.bn_2 = nn.BatchNorm1d(hidden_dim // 2)\n",
        "        self.linear_2 = nn.Linear(hidden_dim // 2, num_classes)\n",
        "\n",
        "        self.relu = nn.ReLU()\n",
        "        self.dp = nn.Dropout(dropout)\n",
        "        \n",
        "    def forward(self, x):        \n",
        "        output = self.embedding(x)\n",
        "        output = self.dp(output)\n",
        "        lstm_out, ht = self.lstm(output)\n",
        "        if self.use_last:\n",
        "            output = lstm_out[:,-1,:]\n",
        "        else:\n",
        "            # use mean\n",
        "            output = torch.mean(lstm_out[:,:,:], dim=1)\n",
        "        output = self.bn_1(output)\n",
        "        output = self.dp(output)\n",
        "\n",
        "        output = self.linear_1(output)\n",
        "        output = self.bn_2(output)\n",
        "        output = self.relu(output)\n",
        "        output = self.dp(output)\n",
        "        output = self.linear_2(output)\n",
        "        output = torch.sigmoid(output)\n",
        "        return output"
      ],
      "metadata": {
        "id": "bkRe-GxkgCBZ"
      },
      "execution_count": 35,
      "outputs": []
    },
    {
      "cell_type": "code",
      "source": [
        "model = Net(max_len=MAX_LEN, vocab_size=VOCABULARY_SIZE, embedding_dim=128, padding_idx=0, \n",
        "                 hidden_dim=128, num_classes=1, dropout=0.0, num_layers=1, use_last=False)"
      ],
      "metadata": {
        "id": "q1bfGPxdonZv"
      },
      "execution_count": 36,
      "outputs": []
    },
    {
      "cell_type": "code",
      "source": [
        "sum([param.nelement() for param in model.parameters()])"
      ],
      "metadata": {
        "colab": {
          "base_uri": "https://localhost:8080/"
        },
        "id": "Tfq6gGK_o3SB",
        "outputId": "26735051-dba2-46b2-f671-38f75562f51b"
      },
      "execution_count": 37,
      "outputs": [
        {
          "output_type": "execute_result",
          "data": {
            "text/plain": [
              "1420801"
            ]
          },
          "metadata": {},
          "execution_count": 37
        }
      ]
    },
    {
      "cell_type": "markdown",
      "source": [
        "### Dataset"
      ],
      "metadata": {
        "id": "yF_GiIywo6bX"
      }
    },
    {
      "cell_type": "code",
      "source": [
        "class DataWrapper(Dataset):\n",
        "    def __init__(self, data, target):\n",
        "        data_numpy = np.array([[j for j in i] for i in data])\n",
        "        self.data = torch.from_numpy(data_numpy).long()\n",
        "        self.target = torch.from_numpy(target).long()\n",
        "        \n",
        "    def __getitem__(self, index):\n",
        "        x = self.data[index]\n",
        "        y = self.target[index]\n",
        "            \n",
        "        return x, y\n",
        "    \n",
        "    def __len__(self):\n",
        "        return len(self.target)"
      ],
      "metadata": {
        "id": "_aMWazGHo6tC"
      },
      "execution_count": 38,
      "outputs": []
    },
    {
      "cell_type": "code",
      "source": [
        "train_data = DataWrapper(train_df['tweet_vocabulary'].values, train_df['label'].values)\n",
        "test_data = DataWrapper(test_df['tweet_vocabulary'].values, test_df['label'].values)"
      ],
      "metadata": {
        "id": "_dVTLB3Ao9IR"
      },
      "execution_count": 39,
      "outputs": []
    },
    {
      "cell_type": "markdown",
      "source": [
        "### DataLoader"
      ],
      "metadata": {
        "id": "XTOBABdoo-_d"
      }
    },
    {
      "cell_type": "code",
      "source": [
        "train_loader = DataLoader(train_data, batch_size=2048, shuffle=True)\n",
        "test_loader = DataLoader(test_data, batch_size=1024, shuffle=True)"
      ],
      "metadata": {
        "id": "wPLs7x6Co_L0"
      },
      "execution_count": 40,
      "outputs": []
    },
    {
      "cell_type": "markdown",
      "source": [
        "### Обучение"
      ],
      "metadata": {
        "id": "-lXkt1rzpBPm"
      }
    },
    {
      "cell_type": "code",
      "source": [
        "device = 'cuda' if torch.cuda.is_available() else 'cpu'\n",
        "device"
      ],
      "metadata": {
        "colab": {
          "base_uri": "https://localhost:8080/",
          "height": 36
        },
        "id": "h6sjRRBwpC2w",
        "outputId": "3be810c1-c658-4a28-a4a0-c662dd523602"
      },
      "execution_count": 41,
      "outputs": [
        {
          "output_type": "execute_result",
          "data": {
            "text/plain": [
              "'cuda'"
            ],
            "application/vnd.google.colaboratory.intrinsic+json": {
              "type": "string"
            }
          },
          "metadata": {},
          "execution_count": 41
        }
      ]
    },
    {
      "cell_type": "markdown",
      "source": [
        "Напишем собственный Loss для учёта дизбаланса классов, умножая потери по положительному классу на степень дизбаланса"
      ],
      "metadata": {
        "id": "g6vwa27vpESb"
      }
    },
    {
      "cell_type": "code",
      "source": [
        "def BCE_weigh(weight=1):\n",
        "\n",
        "  def loss(input, target):\n",
        "    input = torch.clamp(input,min=1e-7,max=1-1e-7)\n",
        "    target = torch.clamp(target,min=1e-7,max=1-1e-7)\n",
        "    bce = - weight * target * torch.log(input) - (1 - target) * torch.log(1 - input)\n",
        "    return torch.mean(bce)\n",
        "\n",
        "  return loss"
      ],
      "metadata": {
        "id": "pVXtRpLFpFag"
      },
      "execution_count": 42,
      "outputs": []
    },
    {
      "cell_type": "code",
      "source": [
        "model = model.to(device)\n",
        "model.train()"
      ],
      "metadata": {
        "colab": {
          "base_uri": "https://localhost:8080/"
        },
        "id": "QrteXWDepGdg",
        "outputId": "5477c681-9bb4-4fb2-df73-c8c4c71eb860"
      },
      "execution_count": 43,
      "outputs": [
        {
          "output_type": "execute_result",
          "data": {
            "text/plain": [
              "Net(\n",
              "  (embedding): Embedding(10000, 128, padding_idx=0)\n",
              "  (lstm): LSTM(128, 128, batch_first=True)\n",
              "  (bn_1): BatchNorm1d(128, eps=1e-05, momentum=0.1, affine=True, track_running_stats=True)\n",
              "  (linear_1): Linear(in_features=128, out_features=64, bias=True)\n",
              "  (bn_2): BatchNorm1d(64, eps=1e-05, momentum=0.1, affine=True, track_running_stats=True)\n",
              "  (linear_2): Linear(in_features=64, out_features=1, bias=True)\n",
              "  (relu): ReLU()\n",
              "  (dp): Dropout(p=0.0, inplace=False)\n",
              ")"
            ]
          },
          "metadata": {},
          "execution_count": 43
        }
      ]
    },
    {
      "cell_type": "code",
      "source": [
        "optimizer = torch.optim.Adam(model.parameters(), lr=0.01)\n",
        "criterion = BCE_weigh(weight=disbalance)"
      ],
      "metadata": {
        "id": "z2-poufbpHjw"
      },
      "execution_count": 44,
      "outputs": []
    },
    {
      "cell_type": "code",
      "source": [
        "epochs = 10\n",
        "threshold = 0.8\n",
        "\n",
        "train_history_loss = []\n",
        "test_history_loss = []\n",
        "test_history_acc= []\n",
        "test_history_f1 = []\n",
        "test_history_pr_auc = []\n",
        "\n",
        "mean_best_threshold = 0.0\n",
        "\n",
        "for epoch in range(epochs):\n",
        "    train_loss = 0.0\n",
        "    test_loss = 0.0\n",
        "    test_acc = 0.0\n",
        "    test_f1 = 0.0\n",
        "    test_pr_auc = 0.0\n",
        "    best_threshold = 0.0\n",
        "\n",
        "    for data in train_loader:\n",
        "\n",
        "      inputs, labels = data[0].to(device), data[1].to(device)\n",
        "      optimizer.zero_grad()\n",
        "      outputs = model(inputs)\n",
        "      labels = labels[..., None].float()\n",
        "      loss = criterion(outputs, labels)\n",
        "      loss.backward()\n",
        "      optimizer.step()\n",
        "      train_loss += loss.item()\n",
        "\n",
        "    for data in test_loader:\n",
        "      inputs, labels = data[0].to(device), data[1].to(device)\n",
        "      outputs = model(inputs)\n",
        "      labels = labels[..., None].float()\n",
        "      loss = criterion(outputs, labels)\n",
        "      test_loss += loss.item()\n",
        "\n",
        "      response = outputs.detach().cpu().numpy()\n",
        "      labels = labels.detach().cpu().numpy().astype(int)\n",
        "\n",
        "      precision, recall, thresholds = precision_recall_curve(labels, response)\n",
        "      test_pr_auc += auc(recall, precision)\n",
        "\n",
        "      best_threshold += thresholds[((precision * recall) / (precision + recall + 1e-7)).argmax()]\n",
        "\n",
        "      response_int = (response > threshold).astype(int)\n",
        "\n",
        "      test_acc += (response_int == labels).sum() / len(labels)\n",
        "      test_f1 += f1_score(labels, response_int)\n",
        "\n",
        "    mean_best_threshold += best_threshold\n",
        "\n",
        "    print(f'Epoch: {epoch + 1}; '\\\n",
        "            f'Train_loss: {round(train_loss / len(train_loader), 3)}; '\\\n",
        "            f'Test_loss: {round(test_loss / len(test_loader), 3)}; '\\\n",
        "            f'Test_acc: {round(test_acc / len(test_loader), 3)}; '\\\n",
        "            f'Best_threshold: {round(best_threshold / len(test_loader), 3)}; '\\\n",
        "            f'Test_pr_auc: {round(test_pr_auc / len(test_loader), 3)}; '\\\n",
        "            f'Test_f1: {round(test_f1 / len(test_loader), 3)}')\n",
        "    \n",
        "    train_history_loss.append(train_loss / len(train_loader))\n",
        "    test_history_loss.append(test_loss / len(test_loader))\n",
        "    test_history_acc.append(test_acc / len(test_loader))\n",
        "    test_history_f1.append(test_f1 / len(test_loader))\n",
        "    test_history_pr_auc.append(test_pr_auc / len(test_loader))\n",
        "\n",
        "mean_best_threshold = mean_best_threshold / (len(test_loader) * epochs)\n",
        "print(f'Best_threshold: {round(mean_best_threshold, 3)}')"
      ],
      "metadata": {
        "colab": {
          "base_uri": "https://localhost:8080/"
        },
        "id": "uux5p89ppJ1O",
        "outputId": "26d4d4c4-252c-4f91-898e-e97e920fe0cb"
      },
      "execution_count": 45,
      "outputs": [
        {
          "output_type": "stream",
          "name": "stdout",
          "text": [
            "Epoch: 1; Train_loss: 0.961; Test_loss: 0.762; Test_acc: 0.942; Best_threshold: 0.768; Test_pr_auc: 0.578; Test_f1: 0.536\n",
            "Epoch: 2; Train_loss: 0.476; Test_loss: 0.748; Test_acc: 0.944; Best_threshold: 0.842; Test_pr_auc: 0.668; Test_f1: 0.611\n",
            "Epoch: 3; Train_loss: 0.214; Test_loss: 1.118; Test_acc: 0.946; Best_threshold: 0.884; Test_pr_auc: 0.682; Test_f1: 0.623\n",
            "Epoch: 4; Train_loss: 0.105; Test_loss: 1.359; Test_acc: 0.948; Best_threshold: 0.863; Test_pr_auc: 0.677; Test_f1: 0.633\n",
            "Epoch: 5; Train_loss: 0.061; Test_loss: 1.694; Test_acc: 0.95; Best_threshold: 0.817; Test_pr_auc: 0.685; Test_f1: 0.636\n",
            "Epoch: 6; Train_loss: 0.037; Test_loss: 1.947; Test_acc: 0.949; Best_threshold: 0.851; Test_pr_auc: 0.662; Test_f1: 0.626\n",
            "Epoch: 7; Train_loss: 0.027; Test_loss: 1.941; Test_acc: 0.945; Best_threshold: 0.911; Test_pr_auc: 0.673; Test_f1: 0.616\n",
            "Epoch: 8; Train_loss: 0.016; Test_loss: 2.108; Test_acc: 0.952; Best_threshold: 0.78; Test_pr_auc: 0.68; Test_f1: 0.638\n",
            "Epoch: 9; Train_loss: 0.011; Test_loss: 2.173; Test_acc: 0.951; Best_threshold: 0.838; Test_pr_auc: 0.679; Test_f1: 0.633\n",
            "Epoch: 10; Train_loss: 0.011; Test_loss: 2.343; Test_acc: 0.951; Best_threshold: 0.882; Test_pr_auc: 0.671; Test_f1: 0.628\n",
            "Best_threshold: 0.844\n"
          ]
        }
      ]
    },
    {
      "cell_type": "code",
      "source": [
        "plt.figure(figsize = (10,5))\n",
        "\n",
        "plt.title('Loss', fontsize = 20)\n",
        "plt.grid(True)\n",
        "plt.ylabel('Loss', fontsize = 15)\n",
        "plt.xlabel('Epoch', fontsize = 15)\n",
        "plt.plot(range(1, epochs+1), train_history_loss, label='train')\n",
        "plt.plot(range(1, epochs+1), test_history_loss, label='test')\n",
        "plt.legend(fontsize = 15);"
      ],
      "metadata": {
        "colab": {
          "base_uri": "https://localhost:8080/",
          "height": 360
        },
        "id": "rfeglBnoJOzR",
        "outputId": "e905cf0d-0aea-4ec5-bcf4-b74cad0149dc"
      },
      "execution_count": 46,
      "outputs": [
        {
          "output_type": "display_data",
          "data": {
            "text/plain": [
              "<Figure size 720x360 with 1 Axes>"
            ],
            "image/png": "[encoded data removed]"
          },
          "metadata": {
            "needs_background": "light"
          }
        }
      ]
    },
    {
      "cell_type": "code",
      "source": [
        "plt.figure(figsize = (10,5))\n",
        "\n",
        "plt.title('Test metrics', fontsize = 20)\n",
        "plt.grid(True)\n",
        "plt.ylabel('Value', fontsize = 15)\n",
        "plt.xlabel('Epoch', fontsize = 15)\n",
        "plt.plot(range(1, epochs+1), test_history_acc, label='accuracy')\n",
        "plt.plot(range(1, epochs+1), test_history_pr_auc, label='pr_auc')\n",
        "plt.plot(range(1, epochs+1), test_history_f1, label='f1_score')\n",
        "plt.legend(fontsize = 15);"
      ],
      "metadata": {
        "colab": {
          "base_uri": "https://localhost:8080/",
          "height": 360
        },
        "id": "4rgLPpC8aRvK",
        "outputId": "b684ec02-1ad2-42dd-e612-c91e1c1ff118"
      },
      "execution_count": 48,
      "outputs": [
        {
          "output_type": "display_data",
          "data": {
            "text/plain": [
              "<Figure size 720x360 with 1 Axes>"
            ],
            "image/png": "[encoded data removed]"
          },
          "metadata": {
            "needs_background": "light"
          }
        }
      ]
    },
    {
      "cell_type": "markdown",
      "source": [
        "## 2. Опишите, какой результат вы получили? Что помогло вам улучшить ее точность?"
      ],
      "metadata": {
        "id": "P9Oen1apaThp"
      }
    },
    {
      "cell_type": "markdown",
      "source": [
        "Сравнивая результат с результатом модели на свёртках, можно увиделть, что:"
      ],
      "metadata": {
        "id": "cbUUFJp0cLBb"
      }
    },
    {
      "cell_type": "markdown",
      "source": [
        "![image.png](data:image/png;base64,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)"
      ],
      "metadata": {
        "id": "LRbKD654aT2c"
      }
    },
    {
      "cell_type": "markdown",
      "source": [
        "Train_loss меньше, значит модель быстрее обучается.\n",
        "\n",
        "Test_loss меньше, значит модель медленнее переобучается.\n",
        "\n",
        "Test_acc мы не будем сравнивать, так как эта метрика будет большой даже если модель для всех примеров предсказывает 0.\n",
        "\n",
        "Test_f1 увеличился более чем вдвое!!! И теперь имеет хороший показатель, больше 0.62, это значит, что наша модель хорошо справилась со своей задачей.\n",
        "\n",
        "Настройка гиперпараметров и замена свёрток на lstm слой совсем немного увеличили test_f1, до 0.32.\n",
        "\n",
        "Основное что помогло, это я заметил, что в некоторых batch получалось так, что \n",
        "все labels были с нулевой меткой, естественно модель на таких примерах не обучалась, а их было много, метка 1 в среднем встречается 1 раз в 14 примерах, а batch size был равен 16. Когда я увеличил batch size до 2048 на train и до 1024 на test, метрика подскочила в два раза и больше таких пакетов, где были только нулевые метки, не было.\n",
        "\n",
        "Так же я добавил еще одну метрику, pr_auc, так как у нас есть сильный дисбаланс классов, то threshold = 0.5, уже не является оптимумом. Доказательство этому, вычисленный best_threshold, который равен 0.844, а не 0.5. А при вычислении pr_auc, мы перебираем все threshold и находим площадь под графиком. Я выбрал pr_auc, а не roc_auc, так как метрика roc_auc из-за сильного дисбаласна классов была бы слишком оптимистичная, из-за того, что у нас очень много нулевых меток, false positive rate был бы очень маленьким, хотя мы и ошибаемся, ставя метки 1, где они на самом деле 0. Поэтому я выбрал precision вместо false positive rate, то есть pr_auc вместо roc_auc. Хотя и pr_auc больше смотрит на то, как мы предсказываем класс 1, а не в целом оба класса, нас как раз таки это и устраивает.\n",
        "\n",
        "pr_auc так же имеет хороший показатель, больше 0.67"
      ],
      "metadata": {
        "id": "BQM9A908Xrrn"
      }
    }
  ]
}